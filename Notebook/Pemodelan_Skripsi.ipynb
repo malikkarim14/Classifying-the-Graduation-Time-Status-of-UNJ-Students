{
  "cells": [
    {
      "cell_type": "markdown",
      "source": [
        "## Preparation"
      ],
      "metadata": {
        "id": "PrBZblQf_2kt"
      }
    },
    {
      "cell_type": "code",
      "execution_count": null,
      "metadata": {
        "colab": {
          "base_uri": "https://localhost:8080/"
        },
        "id": "3Gts0nynXc9W",
        "outputId": "8f427e5e-0770-47ef-eea0-b8263d7f89b6"
      },
      "outputs": [
        {
          "output_type": "stream",
          "name": "stdout",
          "text": [
            "Mounted at /content/drive\n"
          ]
        }
      ],
      "source": [
        "from google.colab import drive\n",
        "drive.mount('/content/drive')"
      ]
    },
    {
      "cell_type": "code",
      "execution_count": null,
      "metadata": {
        "colab": {
          "base_uri": "https://localhost:8080/"
        },
        "id": "CRqvAdbrGGg5",
        "outputId": "b43e1d5b-e45d-4991-fd82-773c6c6ef5e9"
      },
      "outputs": [
        {
          "output_type": "stream",
          "name": "stdout",
          "text": [
            "Looking in indexes: https://pypi.org/simple, https://us-python.pkg.dev/colab-wheels/public/simple/\n",
            "Collecting eli5\n",
            "  Downloading eli5-0.13.0.tar.gz (216 kB)\n",
            "\u001b[2K     \u001b[90m━━━━━━━━━━━━━━━━━━━━━━━━━━━━━━━━━━━━━━━\u001b[0m \u001b[32m216.2/216.2 KB\u001b[0m \u001b[31m9.9 MB/s\u001b[0m eta \u001b[36m0:00:00\u001b[0m\n",
            "\u001b[?25h  Preparing metadata (setup.py) ... \u001b[?25l\u001b[?25hdone\n",
            "Requirement already satisfied: attrs>17.1.0 in /usr/local/lib/python3.8/dist-packages (from eli5) (22.2.0)\n",
            "Collecting jinja2>=3.0.0\n",
            "  Downloading Jinja2-3.1.2-py3-none-any.whl (133 kB)\n",
            "\u001b[2K     \u001b[90m━━━━━━━━━━━━━━━━━━━━━━━━━━━━━━━━━━━━━━\u001b[0m \u001b[32m133.1/133.1 KB\u001b[0m \u001b[31m18.9 MB/s\u001b[0m eta \u001b[36m0:00:00\u001b[0m\n",
            "\u001b[?25hRequirement already satisfied: numpy>=1.9.0 in /usr/local/lib/python3.8/dist-packages (from eli5) (1.21.6)\n",
            "Requirement already satisfied: scipy in /usr/local/lib/python3.8/dist-packages (from eli5) (1.7.3)\n",
            "Requirement already satisfied: six in /usr/local/lib/python3.8/dist-packages (from eli5) (1.15.0)\n",
            "Requirement already satisfied: scikit-learn>=0.20 in /usr/local/lib/python3.8/dist-packages (from eli5) (1.0.2)\n",
            "Requirement already satisfied: graphviz in /usr/local/lib/python3.8/dist-packages (from eli5) (0.10.1)\n",
            "Requirement already satisfied: tabulate>=0.7.7 in /usr/local/lib/python3.8/dist-packages (from eli5) (0.8.10)\n",
            "Requirement already satisfied: MarkupSafe>=2.0 in /usr/local/lib/python3.8/dist-packages (from jinja2>=3.0.0->eli5) (2.0.1)\n",
            "Requirement already satisfied: threadpoolctl>=2.0.0 in /usr/local/lib/python3.8/dist-packages (from scikit-learn>=0.20->eli5) (3.1.0)\n",
            "Requirement already satisfied: joblib>=0.11 in /usr/local/lib/python3.8/dist-packages (from scikit-learn>=0.20->eli5) (1.2.0)\n",
            "Building wheels for collected packages: eli5\n",
            "  Building wheel for eli5 (setup.py) ... \u001b[?25l\u001b[?25hdone\n",
            "  Created wheel for eli5: filename=eli5-0.13.0-py2.py3-none-any.whl size=107748 sha256=cb488b21f895478792dc5620d208ca2e227776fb6c154653a2c4a7061a820c0d\n",
            "  Stored in directory: /root/.cache/pip/wheels/85/ac/25/ffcd87ef8f9b1eec324fdf339359be71f22612459d8c75d89c\n",
            "Successfully built eli5\n",
            "Installing collected packages: jinja2, eli5\n",
            "  Attempting uninstall: jinja2\n",
            "    Found existing installation: Jinja2 2.11.3\n",
            "    Uninstalling Jinja2-2.11.3:\n",
            "      Successfully uninstalled Jinja2-2.11.3\n",
            "\u001b[31mERROR: pip's dependency resolver does not currently take into account all the packages that are installed. This behaviour is the source of the following dependency conflicts.\n",
            "notebook 5.7.16 requires jinja2<=3.0.0, but you have jinja2 3.1.2 which is incompatible.\n",
            "flask 1.1.4 requires Jinja2<3.0,>=2.10.1, but you have jinja2 3.1.2 which is incompatible.\u001b[0m\u001b[31m\n",
            "\u001b[0mSuccessfully installed eli5-0.13.0 jinja2-3.1.2\n",
            "Looking in indexes: https://pypi.org/simple, https://us-python.pkg.dev/colab-wheels/public/simple/\n",
            "Requirement already satisfied: mlxtend in /usr/local/lib/python3.8/dist-packages (0.14.0)\n",
            "Requirement already satisfied: matplotlib>=1.5.1 in /usr/local/lib/python3.8/dist-packages (from mlxtend) (3.2.2)\n",
            "Requirement already satisfied: numpy>=1.10.4 in /usr/local/lib/python3.8/dist-packages (from mlxtend) (1.21.6)\n",
            "Requirement already satisfied: scipy>=0.17 in /usr/local/lib/python3.8/dist-packages (from mlxtend) (1.7.3)\n",
            "Requirement already satisfied: pandas>=0.17.1 in /usr/local/lib/python3.8/dist-packages (from mlxtend) (1.3.5)\n",
            "Requirement already satisfied: scikit-learn>=0.18 in /usr/local/lib/python3.8/dist-packages (from mlxtend) (1.0.2)\n",
            "Requirement already satisfied: setuptools in /usr/local/lib/python3.8/dist-packages (from mlxtend) (57.4.0)\n",
            "Requirement already satisfied: kiwisolver>=1.0.1 in /usr/local/lib/python3.8/dist-packages (from matplotlib>=1.5.1->mlxtend) (1.4.4)\n",
            "Requirement already satisfied: python-dateutil>=2.1 in /usr/local/lib/python3.8/dist-packages (from matplotlib>=1.5.1->mlxtend) (2.8.2)\n",
            "Requirement already satisfied: pyparsing!=2.0.4,!=2.1.2,!=2.1.6,>=2.0.1 in /usr/local/lib/python3.8/dist-packages (from matplotlib>=1.5.1->mlxtend) (3.0.9)\n",
            "Requirement already satisfied: cycler>=0.10 in /usr/local/lib/python3.8/dist-packages (from matplotlib>=1.5.1->mlxtend) (0.11.0)\n",
            "Requirement already satisfied: pytz>=2017.3 in /usr/local/lib/python3.8/dist-packages (from pandas>=0.17.1->mlxtend) (2022.7)\n",
            "Requirement already satisfied: joblib>=0.11 in /usr/local/lib/python3.8/dist-packages (from scikit-learn>=0.18->mlxtend) (1.2.0)\n",
            "Requirement already satisfied: threadpoolctl>=2.0.0 in /usr/local/lib/python3.8/dist-packages (from scikit-learn>=0.18->mlxtend) (3.1.0)\n",
            "Requirement already satisfied: six>=1.5 in /usr/local/lib/python3.8/dist-packages (from python-dateutil>=2.1->matplotlib>=1.5.1->mlxtend) (1.15.0)\n"
          ]
        }
      ],
      "source": [
        "!pip install eli5\n",
        "!pip install mlxtend\n",
        "\n",
        "from sklearn.ensemble import AdaBoostClassifier, RandomForestClassifier\n",
        "from sklearn.tree import DecisionTreeClassifier\n",
        "from sklearn.model_selection import train_test_split, KFold, cross_val_score, cross_val_predict\n",
        "from sklearn.metrics import classification_report, confusion_matrix, ConfusionMatrixDisplay\n",
        "from numpy import mean, std\n",
        "import eli5\n",
        "from eli5.sklearn import PermutationImportance\n",
        "import seaborn as sns\n",
        "import pandas as pd\n",
        "import numpy as np\n",
        "import matplotlib.pyplot as plt\n",
        "from mlxtend.evaluate import paired_ttest_kfold_cv, ftest\n",
        "\n",
        "%matplotlib inline"
      ]
    },
    {
      "cell_type": "code",
      "execution_count": null,
      "metadata": {
        "colab": {
          "base_uri": "https://localhost:8080/",
          "height": 461
        },
        "id": "XepyOWAiNsHM",
        "outputId": "4c1d2f6f-c05b-4ad5-f6db-e0796f8fdf8c"
      },
      "outputs": [
        {
          "output_type": "execute_result",
          "data": {
            "text/plain": [
              "          NIM                   NAMA                       PRODI  \\\n",
              "0  1101617001        RACHMAT HIDAYAT  11016-Teknologi Pendidikan   \n",
              "1  1101617002      ARIF BUDI SANTOSO  11016-Teknologi Pendidikan   \n",
              "2  1101617003   NURUL HISNA HERYANTO  11016-Teknologi Pendidikan   \n",
              "3  1101617004        ALDINO RAMADHAN  11016-Teknologi Pendidikan   \n",
              "4  1101617005  MUHAMMAD AZHAR THIFAL  11016-Teknologi Pendidikan   \n",
              "\n",
              "                   FAKULTAS KELOMPOK UJIAN    S1        S2        S3  \\\n",
              "0  Fakultas Ilmu Pendidikan         SOSHUM  3.51  3.639130  3.595833   \n",
              "1  Fakultas Ilmu Pendidikan         SOSHUM  3.65  3.756522  3.645833   \n",
              "2  Fakultas Ilmu Pendidikan         SOSHUM  3.53  3.569565  3.554167   \n",
              "3  Fakultas Ilmu Pendidikan         SOSHUM  3.68  3.717391  3.370833   \n",
              "4  Fakultas Ilmu Pendidikan         SOSHUM  3.68  3.739130  3.687500   \n",
              "\n",
              "         S4      S5        S6  SKS_S1  SKS_S2  SKS_S3  SKS_S4  SKS_S5  SKS_S6  \\\n",
              "0  3.504545  3.6000  3.652381    22.0    45.0    69.0    91.0   115.0   136.0   \n",
              "1  3.704545  3.6750  3.971429    22.0    45.0    69.0    91.0   115.0   136.0   \n",
              "2  3.759091  3.3750  3.617391    22.0    45.0    69.0    91.0   115.0   138.0   \n",
              "3  3.890909  3.7250  3.733333    22.0    45.0    69.0    91.0   115.0   136.0   \n",
              "4  3.822727  3.5875  3.882609    22.0    45.0    69.0    91.0   115.0   138.0   \n",
              "\n",
              "   STATUS  \n",
              "0       1  \n",
              "1       1  \n",
              "2       1  \n",
              "3       1  \n",
              "4       1  "
            ],
            "text/html": [
              "\n",
              "  <div id=\"df-81b599e5-619c-4c91-9184-ccaad391982a\">\n",
              "    <div class=\"colab-df-container\">\n",
              "      <div>\n",
              "<style scoped>\n",
              "    .dataframe tbody tr th:only-of-type {\n",
              "        vertical-align: middle;\n",
              "    }\n",
              "\n",
              "    .dataframe tbody tr th {\n",
              "        vertical-align: top;\n",
              "    }\n",
              "\n",
              "    .dataframe thead th {\n",
              "        text-align: right;\n",
              "    }\n",
              "</style>\n",
              "<table border=\"1\" class=\"dataframe\">\n",
              "  <thead>\n",
              "    <tr style=\"text-align: right;\">\n",
              "      <th></th>\n",
              "      <th>NIM</th>\n",
              "      <th>NAMA</th>\n",
              "      <th>PRODI</th>\n",
              "      <th>FAKULTAS</th>\n",
              "      <th>KELOMPOK UJIAN</th>\n",
              "      <th>S1</th>\n",
              "      <th>S2</th>\n",
              "      <th>S3</th>\n",
              "      <th>S4</th>\n",
              "      <th>S5</th>\n",
              "      <th>S6</th>\n",
              "      <th>SKS_S1</th>\n",
              "      <th>SKS_S2</th>\n",
              "      <th>SKS_S3</th>\n",
              "      <th>SKS_S4</th>\n",
              "      <th>SKS_S5</th>\n",
              "      <th>SKS_S6</th>\n",
              "      <th>STATUS</th>\n",
              "    </tr>\n",
              "  </thead>\n",
              "  <tbody>\n",
              "    <tr>\n",
              "      <th>0</th>\n",
              "      <td>1101617001</td>\n",
              "      <td>RACHMAT HIDAYAT</td>\n",
              "      <td>11016-Teknologi Pendidikan</td>\n",
              "      <td>Fakultas Ilmu Pendidikan</td>\n",
              "      <td>SOSHUM</td>\n",
              "      <td>3.51</td>\n",
              "      <td>3.639130</td>\n",
              "      <td>3.595833</td>\n",
              "      <td>3.504545</td>\n",
              "      <td>3.6000</td>\n",
              "      <td>3.652381</td>\n",
              "      <td>22.0</td>\n",
              "      <td>45.0</td>\n",
              "      <td>69.0</td>\n",
              "      <td>91.0</td>\n",
              "      <td>115.0</td>\n",
              "      <td>136.0</td>\n",
              "      <td>1</td>\n",
              "    </tr>\n",
              "    <tr>\n",
              "      <th>1</th>\n",
              "      <td>1101617002</td>\n",
              "      <td>ARIF BUDI SANTOSO</td>\n",
              "      <td>11016-Teknologi Pendidikan</td>\n",
              "      <td>Fakultas Ilmu Pendidikan</td>\n",
              "      <td>SOSHUM</td>\n",
              "      <td>3.65</td>\n",
              "      <td>3.756522</td>\n",
              "      <td>3.645833</td>\n",
              "      <td>3.704545</td>\n",
              "      <td>3.6750</td>\n",
              "      <td>3.971429</td>\n",
              "      <td>22.0</td>\n",
              "      <td>45.0</td>\n",
              "      <td>69.0</td>\n",
              "      <td>91.0</td>\n",
              "      <td>115.0</td>\n",
              "      <td>136.0</td>\n",
              "      <td>1</td>\n",
              "    </tr>\n",
              "    <tr>\n",
              "      <th>2</th>\n",
              "      <td>1101617003</td>\n",
              "      <td>NURUL HISNA HERYANTO</td>\n",
              "      <td>11016-Teknologi Pendidikan</td>\n",
              "      <td>Fakultas Ilmu Pendidikan</td>\n",
              "      <td>SOSHUM</td>\n",
              "      <td>3.53</td>\n",
              "      <td>3.569565</td>\n",
              "      <td>3.554167</td>\n",
              "      <td>3.759091</td>\n",
              "      <td>3.3750</td>\n",
              "      <td>3.617391</td>\n",
              "      <td>22.0</td>\n",
              "      <td>45.0</td>\n",
              "      <td>69.0</td>\n",
              "      <td>91.0</td>\n",
              "      <td>115.0</td>\n",
              "      <td>138.0</td>\n",
              "      <td>1</td>\n",
              "    </tr>\n",
              "    <tr>\n",
              "      <th>3</th>\n",
              "      <td>1101617004</td>\n",
              "      <td>ALDINO RAMADHAN</td>\n",
              "      <td>11016-Teknologi Pendidikan</td>\n",
              "      <td>Fakultas Ilmu Pendidikan</td>\n",
              "      <td>SOSHUM</td>\n",
              "      <td>3.68</td>\n",
              "      <td>3.717391</td>\n",
              "      <td>3.370833</td>\n",
              "      <td>3.890909</td>\n",
              "      <td>3.7250</td>\n",
              "      <td>3.733333</td>\n",
              "      <td>22.0</td>\n",
              "      <td>45.0</td>\n",
              "      <td>69.0</td>\n",
              "      <td>91.0</td>\n",
              "      <td>115.0</td>\n",
              "      <td>136.0</td>\n",
              "      <td>1</td>\n",
              "    </tr>\n",
              "    <tr>\n",
              "      <th>4</th>\n",
              "      <td>1101617005</td>\n",
              "      <td>MUHAMMAD AZHAR THIFAL</td>\n",
              "      <td>11016-Teknologi Pendidikan</td>\n",
              "      <td>Fakultas Ilmu Pendidikan</td>\n",
              "      <td>SOSHUM</td>\n",
              "      <td>3.68</td>\n",
              "      <td>3.739130</td>\n",
              "      <td>3.687500</td>\n",
              "      <td>3.822727</td>\n",
              "      <td>3.5875</td>\n",
              "      <td>3.882609</td>\n",
              "      <td>22.0</td>\n",
              "      <td>45.0</td>\n",
              "      <td>69.0</td>\n",
              "      <td>91.0</td>\n",
              "      <td>115.0</td>\n",
              "      <td>138.0</td>\n",
              "      <td>1</td>\n",
              "    </tr>\n",
              "  </tbody>\n",
              "</table>\n",
              "</div>\n",
              "      <button class=\"colab-df-convert\" onclick=\"convertToInteractive('df-81b599e5-619c-4c91-9184-ccaad391982a')\"\n",
              "              title=\"Convert this dataframe to an interactive table.\"\n",
              "              style=\"display:none;\">\n",
              "        \n",
              "  <svg xmlns=\"http://www.w3.org/2000/svg\" height=\"24px\"viewBox=\"0 0 24 24\"\n",
              "       width=\"24px\">\n",
              "    <path d=\"M0 0h24v24H0V0z\" fill=\"none\"/>\n",
              "    <path d=\"M18.56 5.44l.94 2.06.94-2.06 2.06-.94-2.06-.94-.94-2.06-.94 2.06-2.06.94zm-11 1L8.5 8.5l.94-2.06 2.06-.94-2.06-.94L8.5 2.5l-.94 2.06-2.06.94zm10 10l.94 2.06.94-2.06 2.06-.94-2.06-.94-.94-2.06-.94 2.06-2.06.94z\"/><path d=\"M17.41 7.96l-1.37-1.37c-.4-.4-.92-.59-1.43-.59-.52 0-1.04.2-1.43.59L10.3 9.45l-7.72 7.72c-.78.78-.78 2.05 0 2.83L4 21.41c.39.39.9.59 1.41.59.51 0 1.02-.2 1.41-.59l7.78-7.78 2.81-2.81c.8-.78.8-2.07 0-2.86zM5.41 20L4 18.59l7.72-7.72 1.47 1.35L5.41 20z\"/>\n",
              "  </svg>\n",
              "      </button>\n",
              "      \n",
              "  <style>\n",
              "    .colab-df-container {\n",
              "      display:flex;\n",
              "      flex-wrap:wrap;\n",
              "      gap: 12px;\n",
              "    }\n",
              "\n",
              "    .colab-df-convert {\n",
              "      background-color: #E8F0FE;\n",
              "      border: none;\n",
              "      border-radius: 50%;\n",
              "      cursor: pointer;\n",
              "      display: none;\n",
              "      fill: #1967D2;\n",
              "      height: 32px;\n",
              "      padding: 0 0 0 0;\n",
              "      width: 32px;\n",
              "    }\n",
              "\n",
              "    .colab-df-convert:hover {\n",
              "      background-color: #E2EBFA;\n",
              "      box-shadow: 0px 1px 2px rgba(60, 64, 67, 0.3), 0px 1px 3px 1px rgba(60, 64, 67, 0.15);\n",
              "      fill: #174EA6;\n",
              "    }\n",
              "\n",
              "    [theme=dark] .colab-df-convert {\n",
              "      background-color: #3B4455;\n",
              "      fill: #D2E3FC;\n",
              "    }\n",
              "\n",
              "    [theme=dark] .colab-df-convert:hover {\n",
              "      background-color: #434B5C;\n",
              "      box-shadow: 0px 1px 3px 1px rgba(0, 0, 0, 0.15);\n",
              "      filter: drop-shadow(0px 1px 2px rgba(0, 0, 0, 0.3));\n",
              "      fill: #FFFFFF;\n",
              "    }\n",
              "  </style>\n",
              "\n",
              "      <script>\n",
              "        const buttonEl =\n",
              "          document.querySelector('#df-81b599e5-619c-4c91-9184-ccaad391982a button.colab-df-convert');\n",
              "        buttonEl.style.display =\n",
              "          google.colab.kernel.accessAllowed ? 'block' : 'none';\n",
              "\n",
              "        async function convertToInteractive(key) {\n",
              "          const element = document.querySelector('#df-81b599e5-619c-4c91-9184-ccaad391982a');\n",
              "          const dataTable =\n",
              "            await google.colab.kernel.invokeFunction('convertToInteractive',\n",
              "                                                     [key], {});\n",
              "          if (!dataTable) return;\n",
              "\n",
              "          const docLinkHtml = 'Like what you see? Visit the ' +\n",
              "            '<a target=\"_blank\" href=https://colab.research.google.com/notebooks/data_table.ipynb>data table notebook</a>'\n",
              "            + ' to learn more about interactive tables.';\n",
              "          element.innerHTML = '';\n",
              "          dataTable['output_type'] = 'display_data';\n",
              "          await google.colab.output.renderOutput(dataTable, element);\n",
              "          const docLink = document.createElement('div');\n",
              "          docLink.innerHTML = docLinkHtml;\n",
              "          element.appendChild(docLink);\n",
              "        }\n",
              "      </script>\n",
              "    </div>\n",
              "  </div>\n",
              "  "
            ]
          },
          "metadata": {},
          "execution_count": 4
        }
      ],
      "source": [
        "final_df = pd.read_excel(\"/content/drive/MyDrive/AdaBoost/Dataset.xlsx\")\n",
        "final_df.head()"
      ]
    },
    {
      "cell_type": "code",
      "source": [
        "final_df.info()"
      ],
      "metadata": {
        "colab": {
          "base_uri": "https://localhost:8080/"
        },
        "id": "rV3ZyOpr-3RT",
        "outputId": "43cad166-560d-4e77-9283-7012a914bdfd"
      },
      "execution_count": null,
      "outputs": [
        {
          "output_type": "stream",
          "name": "stdout",
          "text": [
            "<class 'pandas.core.frame.DataFrame'>\n",
            "RangeIndex: 8295 entries, 0 to 8294\n",
            "Data columns (total 18 columns):\n",
            " #   Column          Non-Null Count  Dtype  \n",
            "---  ------          --------------  -----  \n",
            " 0   NIM             8295 non-null   int64  \n",
            " 1   NAMA            8295 non-null   object \n",
            " 2   PRODI           8295 non-null   object \n",
            " 3   FAKULTAS        8295 non-null   object \n",
            " 4   KELOMPOK UJIAN  8295 non-null   object \n",
            " 5   S1              8295 non-null   float64\n",
            " 6   S2              8295 non-null   float64\n",
            " 7   S3              8295 non-null   float64\n",
            " 8   S4              8295 non-null   float64\n",
            " 9   S5              8295 non-null   float64\n",
            " 10  S6              8295 non-null   float64\n",
            " 11  SKS_S1          8295 non-null   float64\n",
            " 12  SKS_S2          8295 non-null   float64\n",
            " 13  SKS_S3          8295 non-null   float64\n",
            " 14  SKS_S4          8295 non-null   float64\n",
            " 15  SKS_S5          8295 non-null   float64\n",
            " 16  SKS_S6          8295 non-null   float64\n",
            " 17  STATUS          8295 non-null   int64  \n",
            "dtypes: float64(12), int64(2), object(4)\n",
            "memory usage: 1.1+ MB\n"
          ]
        }
      ]
    },
    {
      "cell_type": "code",
      "source": [
        "final_df[\"NIM\"] = final_df[\"NIM\"].astype('str')\n",
        "final_df[\"STATUS\"] = final_df[\"STATUS\"].astype('str')"
      ],
      "metadata": {
        "id": "wDFrOWYl_Aap"
      },
      "execution_count": null,
      "outputs": []
    },
    {
      "cell_type": "markdown",
      "source": [
        "## EDA"
      ],
      "metadata": {
        "id": "A0-XbMpL_xXW"
      }
    },
    {
      "cell_type": "code",
      "execution_count": null,
      "metadata": {
        "colab": {
          "base_uri": "https://localhost:8080/",
          "height": 364
        },
        "id": "ledj5VBb30WJ",
        "outputId": "ac566dd0-1938-4bab-f548-548ae6f2a74e"
      },
      "outputs": [
        {
          "output_type": "execute_result",
          "data": {
            "text/plain": [
              "                S1           S2           S3           S4           S5  \\\n",
              "count  8295.000000  8295.000000  8295.000000  8295.000000  8295.000000   \n",
              "mean      3.471486     3.503894     3.493651     3.518129     3.531192   \n",
              "std       0.243769     0.240872     0.253280     0.258702     0.270658   \n",
              "min       2.470000     2.211111     2.000000     2.226667     2.000000   \n",
              "25%       3.310000     3.358333     3.347826     3.370000     3.377273   \n",
              "50%       3.500000     3.536364     3.533333     3.565217     3.583333   \n",
              "75%       3.660000     3.686957     3.677525     3.709307     3.734783   \n",
              "max       4.000000     4.000000     4.000000     4.000000     4.000000   \n",
              "\n",
              "                S6       SKS_S1       SKS_S2       SKS_S3       SKS_S4  \\\n",
              "count  8295.000000  8295.000000  8295.000000  8295.000000  8295.000000   \n",
              "mean      3.635053    20.628451    42.638336    64.829777    87.027486   \n",
              "std       0.228191     1.313197     2.813061     4.321893     5.902815   \n",
              "min       2.000000    17.000000    34.000000    37.000000    41.000000   \n",
              "25%       3.513636    20.000000    41.000000    63.000000    84.000000   \n",
              "50%       3.678261    21.000000    44.000000    66.000000    89.000000   \n",
              "75%       3.800000    22.000000    45.000000    68.000000    91.000000   \n",
              "max       4.000000    22.000000    46.000000    71.000000    94.000000   \n",
              "\n",
              "            SKS_S5       SKS_S6  \n",
              "count  8295.000000  8295.000000  \n",
              "mean    109.094997   130.188788  \n",
              "std       7.601013     9.181412  \n",
              "min      45.000000    47.000000  \n",
              "25%     106.000000   127.000000  \n",
              "50%     111.000000   132.000000  \n",
              "75%     115.000000   136.000000  \n",
              "max     119.000000   142.000000  "
            ],
            "text/html": [
              "\n",
              "  <div id=\"df-a12c274c-1861-4ba2-9ea7-97fabe2479f1\">\n",
              "    <div class=\"colab-df-container\">\n",
              "      <div>\n",
              "<style scoped>\n",
              "    .dataframe tbody tr th:only-of-type {\n",
              "        vertical-align: middle;\n",
              "    }\n",
              "\n",
              "    .dataframe tbody tr th {\n",
              "        vertical-align: top;\n",
              "    }\n",
              "\n",
              "    .dataframe thead th {\n",
              "        text-align: right;\n",
              "    }\n",
              "</style>\n",
              "<table border=\"1\" class=\"dataframe\">\n",
              "  <thead>\n",
              "    <tr style=\"text-align: right;\">\n",
              "      <th></th>\n",
              "      <th>S1</th>\n",
              "      <th>S2</th>\n",
              "      <th>S3</th>\n",
              "      <th>S4</th>\n",
              "      <th>S5</th>\n",
              "      <th>S6</th>\n",
              "      <th>SKS_S1</th>\n",
              "      <th>SKS_S2</th>\n",
              "      <th>SKS_S3</th>\n",
              "      <th>SKS_S4</th>\n",
              "      <th>SKS_S5</th>\n",
              "      <th>SKS_S6</th>\n",
              "    </tr>\n",
              "  </thead>\n",
              "  <tbody>\n",
              "    <tr>\n",
              "      <th>count</th>\n",
              "      <td>8295.000000</td>\n",
              "      <td>8295.000000</td>\n",
              "      <td>8295.000000</td>\n",
              "      <td>8295.000000</td>\n",
              "      <td>8295.000000</td>\n",
              "      <td>8295.000000</td>\n",
              "      <td>8295.000000</td>\n",
              "      <td>8295.000000</td>\n",
              "      <td>8295.000000</td>\n",
              "      <td>8295.000000</td>\n",
              "      <td>8295.000000</td>\n",
              "      <td>8295.000000</td>\n",
              "    </tr>\n",
              "    <tr>\n",
              "      <th>mean</th>\n",
              "      <td>3.471486</td>\n",
              "      <td>3.503894</td>\n",
              "      <td>3.493651</td>\n",
              "      <td>3.518129</td>\n",
              "      <td>3.531192</td>\n",
              "      <td>3.635053</td>\n",
              "      <td>20.628451</td>\n",
              "      <td>42.638336</td>\n",
              "      <td>64.829777</td>\n",
              "      <td>87.027486</td>\n",
              "      <td>109.094997</td>\n",
              "      <td>130.188788</td>\n",
              "    </tr>\n",
              "    <tr>\n",
              "      <th>std</th>\n",
              "      <td>0.243769</td>\n",
              "      <td>0.240872</td>\n",
              "      <td>0.253280</td>\n",
              "      <td>0.258702</td>\n",
              "      <td>0.270658</td>\n",
              "      <td>0.228191</td>\n",
              "      <td>1.313197</td>\n",
              "      <td>2.813061</td>\n",
              "      <td>4.321893</td>\n",
              "      <td>5.902815</td>\n",
              "      <td>7.601013</td>\n",
              "      <td>9.181412</td>\n",
              "    </tr>\n",
              "    <tr>\n",
              "      <th>min</th>\n",
              "      <td>2.470000</td>\n",
              "      <td>2.211111</td>\n",
              "      <td>2.000000</td>\n",
              "      <td>2.226667</td>\n",
              "      <td>2.000000</td>\n",
              "      <td>2.000000</td>\n",
              "      <td>17.000000</td>\n",
              "      <td>34.000000</td>\n",
              "      <td>37.000000</td>\n",
              "      <td>41.000000</td>\n",
              "      <td>45.000000</td>\n",
              "      <td>47.000000</td>\n",
              "    </tr>\n",
              "    <tr>\n",
              "      <th>25%</th>\n",
              "      <td>3.310000</td>\n",
              "      <td>3.358333</td>\n",
              "      <td>3.347826</td>\n",
              "      <td>3.370000</td>\n",
              "      <td>3.377273</td>\n",
              "      <td>3.513636</td>\n",
              "      <td>20.000000</td>\n",
              "      <td>41.000000</td>\n",
              "      <td>63.000000</td>\n",
              "      <td>84.000000</td>\n",
              "      <td>106.000000</td>\n",
              "      <td>127.000000</td>\n",
              "    </tr>\n",
              "    <tr>\n",
              "      <th>50%</th>\n",
              "      <td>3.500000</td>\n",
              "      <td>3.536364</td>\n",
              "      <td>3.533333</td>\n",
              "      <td>3.565217</td>\n",
              "      <td>3.583333</td>\n",
              "      <td>3.678261</td>\n",
              "      <td>21.000000</td>\n",
              "      <td>44.000000</td>\n",
              "      <td>66.000000</td>\n",
              "      <td>89.000000</td>\n",
              "      <td>111.000000</td>\n",
              "      <td>132.000000</td>\n",
              "    </tr>\n",
              "    <tr>\n",
              "      <th>75%</th>\n",
              "      <td>3.660000</td>\n",
              "      <td>3.686957</td>\n",
              "      <td>3.677525</td>\n",
              "      <td>3.709307</td>\n",
              "      <td>3.734783</td>\n",
              "      <td>3.800000</td>\n",
              "      <td>22.000000</td>\n",
              "      <td>45.000000</td>\n",
              "      <td>68.000000</td>\n",
              "      <td>91.000000</td>\n",
              "      <td>115.000000</td>\n",
              "      <td>136.000000</td>\n",
              "    </tr>\n",
              "    <tr>\n",
              "      <th>max</th>\n",
              "      <td>4.000000</td>\n",
              "      <td>4.000000</td>\n",
              "      <td>4.000000</td>\n",
              "      <td>4.000000</td>\n",
              "      <td>4.000000</td>\n",
              "      <td>4.000000</td>\n",
              "      <td>22.000000</td>\n",
              "      <td>46.000000</td>\n",
              "      <td>71.000000</td>\n",
              "      <td>94.000000</td>\n",
              "      <td>119.000000</td>\n",
              "      <td>142.000000</td>\n",
              "    </tr>\n",
              "  </tbody>\n",
              "</table>\n",
              "</div>\n",
              "      <button class=\"colab-df-convert\" onclick=\"convertToInteractive('df-a12c274c-1861-4ba2-9ea7-97fabe2479f1')\"\n",
              "              title=\"Convert this dataframe to an interactive table.\"\n",
              "              style=\"display:none;\">\n",
              "        \n",
              "  <svg xmlns=\"http://www.w3.org/2000/svg\" height=\"24px\"viewBox=\"0 0 24 24\"\n",
              "       width=\"24px\">\n",
              "    <path d=\"M0 0h24v24H0V0z\" fill=\"none\"/>\n",
              "    <path d=\"M18.56 5.44l.94 2.06.94-2.06 2.06-.94-2.06-.94-.94-2.06-.94 2.06-2.06.94zm-11 1L8.5 8.5l.94-2.06 2.06-.94-2.06-.94L8.5 2.5l-.94 2.06-2.06.94zm10 10l.94 2.06.94-2.06 2.06-.94-2.06-.94-.94-2.06-.94 2.06-2.06.94z\"/><path d=\"M17.41 7.96l-1.37-1.37c-.4-.4-.92-.59-1.43-.59-.52 0-1.04.2-1.43.59L10.3 9.45l-7.72 7.72c-.78.78-.78 2.05 0 2.83L4 21.41c.39.39.9.59 1.41.59.51 0 1.02-.2 1.41-.59l7.78-7.78 2.81-2.81c.8-.78.8-2.07 0-2.86zM5.41 20L4 18.59l7.72-7.72 1.47 1.35L5.41 20z\"/>\n",
              "  </svg>\n",
              "      </button>\n",
              "      \n",
              "  <style>\n",
              "    .colab-df-container {\n",
              "      display:flex;\n",
              "      flex-wrap:wrap;\n",
              "      gap: 12px;\n",
              "    }\n",
              "\n",
              "    .colab-df-convert {\n",
              "      background-color: #E8F0FE;\n",
              "      border: none;\n",
              "      border-radius: 50%;\n",
              "      cursor: pointer;\n",
              "      display: none;\n",
              "      fill: #1967D2;\n",
              "      height: 32px;\n",
              "      padding: 0 0 0 0;\n",
              "      width: 32px;\n",
              "    }\n",
              "\n",
              "    .colab-df-convert:hover {\n",
              "      background-color: #E2EBFA;\n",
              "      box-shadow: 0px 1px 2px rgba(60, 64, 67, 0.3), 0px 1px 3px 1px rgba(60, 64, 67, 0.15);\n",
              "      fill: #174EA6;\n",
              "    }\n",
              "\n",
              "    [theme=dark] .colab-df-convert {\n",
              "      background-color: #3B4455;\n",
              "      fill: #D2E3FC;\n",
              "    }\n",
              "\n",
              "    [theme=dark] .colab-df-convert:hover {\n",
              "      background-color: #434B5C;\n",
              "      box-shadow: 0px 1px 3px 1px rgba(0, 0, 0, 0.15);\n",
              "      filter: drop-shadow(0px 1px 2px rgba(0, 0, 0, 0.3));\n",
              "      fill: #FFFFFF;\n",
              "    }\n",
              "  </style>\n",
              "\n",
              "      <script>\n",
              "        const buttonEl =\n",
              "          document.querySelector('#df-a12c274c-1861-4ba2-9ea7-97fabe2479f1 button.colab-df-convert');\n",
              "        buttonEl.style.display =\n",
              "          google.colab.kernel.accessAllowed ? 'block' : 'none';\n",
              "\n",
              "        async function convertToInteractive(key) {\n",
              "          const element = document.querySelector('#df-a12c274c-1861-4ba2-9ea7-97fabe2479f1');\n",
              "          const dataTable =\n",
              "            await google.colab.kernel.invokeFunction('convertToInteractive',\n",
              "                                                     [key], {});\n",
              "          if (!dataTable) return;\n",
              "\n",
              "          const docLinkHtml = 'Like what you see? Visit the ' +\n",
              "            '<a target=\"_blank\" href=https://colab.research.google.com/notebooks/data_table.ipynb>data table notebook</a>'\n",
              "            + ' to learn more about interactive tables.';\n",
              "          element.innerHTML = '';\n",
              "          dataTable['output_type'] = 'display_data';\n",
              "          await google.colab.output.renderOutput(dataTable, element);\n",
              "          const docLink = document.createElement('div');\n",
              "          docLink.innerHTML = docLinkHtml;\n",
              "          element.appendChild(docLink);\n",
              "        }\n",
              "      </script>\n",
              "    </div>\n",
              "  </div>\n",
              "  "
            ]
          },
          "metadata": {},
          "execution_count": 7
        }
      ],
      "source": [
        "final_df.describe()"
      ]
    },
    {
      "cell_type": "code",
      "execution_count": null,
      "metadata": {
        "colab": {
          "base_uri": "https://localhost:8080/",
          "height": 175
        },
        "id": "sW-_P-g74ACL",
        "outputId": "aed9b1ea-09d0-443f-d927-e0482f860bf5"
      },
      "outputs": [
        {
          "output_type": "execute_result",
          "data": {
            "text/plain": [
              "               NIM          NAMA                                PRODI  \\\n",
              "count         8295          8295                                 8295   \n",
              "unique        8295          8247                                   54   \n",
              "top     1101617001  NURUL AZIZAH  11076-Pendidikan Guru Sekolah Dasar   \n",
              "freq             1             4                                  509   \n",
              "\n",
              "                        FAKULTAS KELOMPOK UJIAN STATUS  \n",
              "count                       8295           8295   8295  \n",
              "unique                         8              2      2  \n",
              "top     Fakultas Ilmu Pendidikan         SOSHUM      0  \n",
              "freq                        1607           6586   4165  "
            ],
            "text/html": [
              "\n",
              "  <div id=\"df-23d2f7aa-cf37-42b2-ace0-5dc2a282a98a\">\n",
              "    <div class=\"colab-df-container\">\n",
              "      <div>\n",
              "<style scoped>\n",
              "    .dataframe tbody tr th:only-of-type {\n",
              "        vertical-align: middle;\n",
              "    }\n",
              "\n",
              "    .dataframe tbody tr th {\n",
              "        vertical-align: top;\n",
              "    }\n",
              "\n",
              "    .dataframe thead th {\n",
              "        text-align: right;\n",
              "    }\n",
              "</style>\n",
              "<table border=\"1\" class=\"dataframe\">\n",
              "  <thead>\n",
              "    <tr style=\"text-align: right;\">\n",
              "      <th></th>\n",
              "      <th>NIM</th>\n",
              "      <th>NAMA</th>\n",
              "      <th>PRODI</th>\n",
              "      <th>FAKULTAS</th>\n",
              "      <th>KELOMPOK UJIAN</th>\n",
              "      <th>STATUS</th>\n",
              "    </tr>\n",
              "  </thead>\n",
              "  <tbody>\n",
              "    <tr>\n",
              "      <th>count</th>\n",
              "      <td>8295</td>\n",
              "      <td>8295</td>\n",
              "      <td>8295</td>\n",
              "      <td>8295</td>\n",
              "      <td>8295</td>\n",
              "      <td>8295</td>\n",
              "    </tr>\n",
              "    <tr>\n",
              "      <th>unique</th>\n",
              "      <td>8295</td>\n",
              "      <td>8247</td>\n",
              "      <td>54</td>\n",
              "      <td>8</td>\n",
              "      <td>2</td>\n",
              "      <td>2</td>\n",
              "    </tr>\n",
              "    <tr>\n",
              "      <th>top</th>\n",
              "      <td>1101617001</td>\n",
              "      <td>NURUL AZIZAH</td>\n",
              "      <td>11076-Pendidikan Guru Sekolah Dasar</td>\n",
              "      <td>Fakultas Ilmu Pendidikan</td>\n",
              "      <td>SOSHUM</td>\n",
              "      <td>0</td>\n",
              "    </tr>\n",
              "    <tr>\n",
              "      <th>freq</th>\n",
              "      <td>1</td>\n",
              "      <td>4</td>\n",
              "      <td>509</td>\n",
              "      <td>1607</td>\n",
              "      <td>6586</td>\n",
              "      <td>4165</td>\n",
              "    </tr>\n",
              "  </tbody>\n",
              "</table>\n",
              "</div>\n",
              "      <button class=\"colab-df-convert\" onclick=\"convertToInteractive('df-23d2f7aa-cf37-42b2-ace0-5dc2a282a98a')\"\n",
              "              title=\"Convert this dataframe to an interactive table.\"\n",
              "              style=\"display:none;\">\n",
              "        \n",
              "  <svg xmlns=\"http://www.w3.org/2000/svg\" height=\"24px\"viewBox=\"0 0 24 24\"\n",
              "       width=\"24px\">\n",
              "    <path d=\"M0 0h24v24H0V0z\" fill=\"none\"/>\n",
              "    <path d=\"M18.56 5.44l.94 2.06.94-2.06 2.06-.94-2.06-.94-.94-2.06-.94 2.06-2.06.94zm-11 1L8.5 8.5l.94-2.06 2.06-.94-2.06-.94L8.5 2.5l-.94 2.06-2.06.94zm10 10l.94 2.06.94-2.06 2.06-.94-2.06-.94-.94-2.06-.94 2.06-2.06.94z\"/><path d=\"M17.41 7.96l-1.37-1.37c-.4-.4-.92-.59-1.43-.59-.52 0-1.04.2-1.43.59L10.3 9.45l-7.72 7.72c-.78.78-.78 2.05 0 2.83L4 21.41c.39.39.9.59 1.41.59.51 0 1.02-.2 1.41-.59l7.78-7.78 2.81-2.81c.8-.78.8-2.07 0-2.86zM5.41 20L4 18.59l7.72-7.72 1.47 1.35L5.41 20z\"/>\n",
              "  </svg>\n",
              "      </button>\n",
              "      \n",
              "  <style>\n",
              "    .colab-df-container {\n",
              "      display:flex;\n",
              "      flex-wrap:wrap;\n",
              "      gap: 12px;\n",
              "    }\n",
              "\n",
              "    .colab-df-convert {\n",
              "      background-color: #E8F0FE;\n",
              "      border: none;\n",
              "      border-radius: 50%;\n",
              "      cursor: pointer;\n",
              "      display: none;\n",
              "      fill: #1967D2;\n",
              "      height: 32px;\n",
              "      padding: 0 0 0 0;\n",
              "      width: 32px;\n",
              "    }\n",
              "\n",
              "    .colab-df-convert:hover {\n",
              "      background-color: #E2EBFA;\n",
              "      box-shadow: 0px 1px 2px rgba(60, 64, 67, 0.3), 0px 1px 3px 1px rgba(60, 64, 67, 0.15);\n",
              "      fill: #174EA6;\n",
              "    }\n",
              "\n",
              "    [theme=dark] .colab-df-convert {\n",
              "      background-color: #3B4455;\n",
              "      fill: #D2E3FC;\n",
              "    }\n",
              "\n",
              "    [theme=dark] .colab-df-convert:hover {\n",
              "      background-color: #434B5C;\n",
              "      box-shadow: 0px 1px 3px 1px rgba(0, 0, 0, 0.15);\n",
              "      filter: drop-shadow(0px 1px 2px rgba(0, 0, 0, 0.3));\n",
              "      fill: #FFFFFF;\n",
              "    }\n",
              "  </style>\n",
              "\n",
              "      <script>\n",
              "        const buttonEl =\n",
              "          document.querySelector('#df-23d2f7aa-cf37-42b2-ace0-5dc2a282a98a button.colab-df-convert');\n",
              "        buttonEl.style.display =\n",
              "          google.colab.kernel.accessAllowed ? 'block' : 'none';\n",
              "\n",
              "        async function convertToInteractive(key) {\n",
              "          const element = document.querySelector('#df-23d2f7aa-cf37-42b2-ace0-5dc2a282a98a');\n",
              "          const dataTable =\n",
              "            await google.colab.kernel.invokeFunction('convertToInteractive',\n",
              "                                                     [key], {});\n",
              "          if (!dataTable) return;\n",
              "\n",
              "          const docLinkHtml = 'Like what you see? Visit the ' +\n",
              "            '<a target=\"_blank\" href=https://colab.research.google.com/notebooks/data_table.ipynb>data table notebook</a>'\n",
              "            + ' to learn more about interactive tables.';\n",
              "          element.innerHTML = '';\n",
              "          dataTable['output_type'] = 'display_data';\n",
              "          await google.colab.output.renderOutput(dataTable, element);\n",
              "          const docLink = document.createElement('div');\n",
              "          docLink.innerHTML = docLinkHtml;\n",
              "          element.appendChild(docLink);\n",
              "        }\n",
              "      </script>\n",
              "    </div>\n",
              "  </div>\n",
              "  "
            ]
          },
          "metadata": {},
          "execution_count": 8
        }
      ],
      "source": [
        "final_df.describe(include=[object])"
      ]
    },
    {
      "cell_type": "code",
      "execution_count": null,
      "metadata": {
        "colab": {
          "base_uri": "https://localhost:8080/"
        },
        "id": "AAwQxhn34ak7",
        "outputId": "fab6c004-af89-434c-e63d-13dc3caf35ee"
      },
      "outputs": [
        {
          "output_type": "execute_result",
          "data": {
            "text/plain": [
              "0    4165\n",
              "1    4130\n",
              "Name: STATUS, dtype: int64"
            ]
          },
          "metadata": {},
          "execution_count": 9
        }
      ],
      "source": [
        "final_df['STATUS'].value_counts()"
      ]
    },
    {
      "cell_type": "code",
      "source": [
        "IPS = pd.DataFrame({'S1': final_df['S1'],'S2': final_df['S2'],'S3': final_df['S3'],'S4': final_df['S4'],'S5': final_df['S5'],'S6': final_df['S6']})\n",
        "IPS.head()"
      ],
      "metadata": {
        "colab": {
          "base_uri": "https://localhost:8080/",
          "height": 206
        },
        "id": "EodIY7XRzYF0",
        "outputId": "8febb461-77a1-4558-b7b9-054ecd0a957f"
      },
      "execution_count": null,
      "outputs": [
        {
          "output_type": "execute_result",
          "data": {
            "text/plain": [
              "     S1        S2        S3        S4      S5        S6\n",
              "0  3.51  3.639130  3.595833  3.504545  3.6000  3.652381\n",
              "1  3.65  3.756522  3.645833  3.704545  3.6750  3.971429\n",
              "2  3.53  3.569565  3.554167  3.759091  3.3750  3.617391\n",
              "3  3.68  3.717391  3.370833  3.890909  3.7250  3.733333\n",
              "4  3.68  3.739130  3.687500  3.822727  3.5875  3.882609"
            ],
            "text/html": [
              "\n",
              "  <div id=\"df-1cec125f-58a8-40e2-a25c-d51836332507\">\n",
              "    <div class=\"colab-df-container\">\n",
              "      <div>\n",
              "<style scoped>\n",
              "    .dataframe tbody tr th:only-of-type {\n",
              "        vertical-align: middle;\n",
              "    }\n",
              "\n",
              "    .dataframe tbody tr th {\n",
              "        vertical-align: top;\n",
              "    }\n",
              "\n",
              "    .dataframe thead th {\n",
              "        text-align: right;\n",
              "    }\n",
              "</style>\n",
              "<table border=\"1\" class=\"dataframe\">\n",
              "  <thead>\n",
              "    <tr style=\"text-align: right;\">\n",
              "      <th></th>\n",
              "      <th>S1</th>\n",
              "      <th>S2</th>\n",
              "      <th>S3</th>\n",
              "      <th>S4</th>\n",
              "      <th>S5</th>\n",
              "      <th>S6</th>\n",
              "    </tr>\n",
              "  </thead>\n",
              "  <tbody>\n",
              "    <tr>\n",
              "      <th>0</th>\n",
              "      <td>3.51</td>\n",
              "      <td>3.639130</td>\n",
              "      <td>3.595833</td>\n",
              "      <td>3.504545</td>\n",
              "      <td>3.6000</td>\n",
              "      <td>3.652381</td>\n",
              "    </tr>\n",
              "    <tr>\n",
              "      <th>1</th>\n",
              "      <td>3.65</td>\n",
              "      <td>3.756522</td>\n",
              "      <td>3.645833</td>\n",
              "      <td>3.704545</td>\n",
              "      <td>3.6750</td>\n",
              "      <td>3.971429</td>\n",
              "    </tr>\n",
              "    <tr>\n",
              "      <th>2</th>\n",
              "      <td>3.53</td>\n",
              "      <td>3.569565</td>\n",
              "      <td>3.554167</td>\n",
              "      <td>3.759091</td>\n",
              "      <td>3.3750</td>\n",
              "      <td>3.617391</td>\n",
              "    </tr>\n",
              "    <tr>\n",
              "      <th>3</th>\n",
              "      <td>3.68</td>\n",
              "      <td>3.717391</td>\n",
              "      <td>3.370833</td>\n",
              "      <td>3.890909</td>\n",
              "      <td>3.7250</td>\n",
              "      <td>3.733333</td>\n",
              "    </tr>\n",
              "    <tr>\n",
              "      <th>4</th>\n",
              "      <td>3.68</td>\n",
              "      <td>3.739130</td>\n",
              "      <td>3.687500</td>\n",
              "      <td>3.822727</td>\n",
              "      <td>3.5875</td>\n",
              "      <td>3.882609</td>\n",
              "    </tr>\n",
              "  </tbody>\n",
              "</table>\n",
              "</div>\n",
              "      <button class=\"colab-df-convert\" onclick=\"convertToInteractive('df-1cec125f-58a8-40e2-a25c-d51836332507')\"\n",
              "              title=\"Convert this dataframe to an interactive table.\"\n",
              "              style=\"display:none;\">\n",
              "        \n",
              "  <svg xmlns=\"http://www.w3.org/2000/svg\" height=\"24px\"viewBox=\"0 0 24 24\"\n",
              "       width=\"24px\">\n",
              "    <path d=\"M0 0h24v24H0V0z\" fill=\"none\"/>\n",
              "    <path d=\"M18.56 5.44l.94 2.06.94-2.06 2.06-.94-2.06-.94-.94-2.06-.94 2.06-2.06.94zm-11 1L8.5 8.5l.94-2.06 2.06-.94-2.06-.94L8.5 2.5l-.94 2.06-2.06.94zm10 10l.94 2.06.94-2.06 2.06-.94-2.06-.94-.94-2.06-.94 2.06-2.06.94z\"/><path d=\"M17.41 7.96l-1.37-1.37c-.4-.4-.92-.59-1.43-.59-.52 0-1.04.2-1.43.59L10.3 9.45l-7.72 7.72c-.78.78-.78 2.05 0 2.83L4 21.41c.39.39.9.59 1.41.59.51 0 1.02-.2 1.41-.59l7.78-7.78 2.81-2.81c.8-.78.8-2.07 0-2.86zM5.41 20L4 18.59l7.72-7.72 1.47 1.35L5.41 20z\"/>\n",
              "  </svg>\n",
              "      </button>\n",
              "      \n",
              "  <style>\n",
              "    .colab-df-container {\n",
              "      display:flex;\n",
              "      flex-wrap:wrap;\n",
              "      gap: 12px;\n",
              "    }\n",
              "\n",
              "    .colab-df-convert {\n",
              "      background-color: #E8F0FE;\n",
              "      border: none;\n",
              "      border-radius: 50%;\n",
              "      cursor: pointer;\n",
              "      display: none;\n",
              "      fill: #1967D2;\n",
              "      height: 32px;\n",
              "      padding: 0 0 0 0;\n",
              "      width: 32px;\n",
              "    }\n",
              "\n",
              "    .colab-df-convert:hover {\n",
              "      background-color: #E2EBFA;\n",
              "      box-shadow: 0px 1px 2px rgba(60, 64, 67, 0.3), 0px 1px 3px 1px rgba(60, 64, 67, 0.15);\n",
              "      fill: #174EA6;\n",
              "    }\n",
              "\n",
              "    [theme=dark] .colab-df-convert {\n",
              "      background-color: #3B4455;\n",
              "      fill: #D2E3FC;\n",
              "    }\n",
              "\n",
              "    [theme=dark] .colab-df-convert:hover {\n",
              "      background-color: #434B5C;\n",
              "      box-shadow: 0px 1px 3px 1px rgba(0, 0, 0, 0.15);\n",
              "      filter: drop-shadow(0px 1px 2px rgba(0, 0, 0, 0.3));\n",
              "      fill: #FFFFFF;\n",
              "    }\n",
              "  </style>\n",
              "\n",
              "      <script>\n",
              "        const buttonEl =\n",
              "          document.querySelector('#df-1cec125f-58a8-40e2-a25c-d51836332507 button.colab-df-convert');\n",
              "        buttonEl.style.display =\n",
              "          google.colab.kernel.accessAllowed ? 'block' : 'none';\n",
              "\n",
              "        async function convertToInteractive(key) {\n",
              "          const element = document.querySelector('#df-1cec125f-58a8-40e2-a25c-d51836332507');\n",
              "          const dataTable =\n",
              "            await google.colab.kernel.invokeFunction('convertToInteractive',\n",
              "                                                     [key], {});\n",
              "          if (!dataTable) return;\n",
              "\n",
              "          const docLinkHtml = 'Like what you see? Visit the ' +\n",
              "            '<a target=\"_blank\" href=https://colab.research.google.com/notebooks/data_table.ipynb>data table notebook</a>'\n",
              "            + ' to learn more about interactive tables.';\n",
              "          element.innerHTML = '';\n",
              "          dataTable['output_type'] = 'display_data';\n",
              "          await google.colab.output.renderOutput(dataTable, element);\n",
              "          const docLink = document.createElement('div');\n",
              "          docLink.innerHTML = docLinkHtml;\n",
              "          element.appendChild(docLink);\n",
              "        }\n",
              "      </script>\n",
              "    </div>\n",
              "  </div>\n",
              "  "
            ]
          },
          "metadata": {},
          "execution_count": 10
        }
      ]
    },
    {
      "cell_type": "code",
      "source": [
        "IPS.plot.hist(figsize=(8, 10), bins=32, stacked=\"True\")"
      ],
      "metadata": {
        "colab": {
          "base_uri": "https://localhost:8080/",
          "height": 609
        },
        "id": "KA12sLgv85Wz",
        "outputId": "b2aa7426-bb30-43ca-bf94-adbdc1ef1e9e"
      },
      "execution_count": null,
      "outputs": [
        {
          "output_type": "execute_result",
          "data": {
            "text/plain": [
              "<matplotlib.axes._subplots.AxesSubplot at 0x7f3522044310>"
            ]
          },
          "metadata": {},
          "execution_count": 11
        },
        {
          "output_type": "display_data",
          "data": {
            "text/plain": [
              "<Figure size 576x720 with 1 Axes>"
            ],
            "image/png": "[encoded data removed]"
          },
          "metadata": {
            "needs_background": "light"
          }
        }
      ]
    },
    {
      "cell_type": "markdown",
      "source": [
        "## Model 1 (Smt 1)"
      ],
      "metadata": {
        "id": "8__AokimwBZA"
      }
    },
    {
      "cell_type": "code",
      "execution_count": null,
      "metadata": {
        "id": "YtMq-v23Qkwb"
      },
      "outputs": [],
      "source": [
        "feature_columns1 = ['S1','SKS_S1']\n",
        "X1 = final_df[feature_columns1]\n",
        "y1 = final_df['STATUS']\n",
        "X1_train, X1_test, y1_train, y1_test = train_test_split(X1, y1, random_state=35, test_size=0.2, shuffle=True)"
      ]
    },
    {
      "cell_type": "code",
      "execution_count": null,
      "metadata": {
        "id": "pBZQmt3IUbv8"
      },
      "outputs": [],
      "source": [
        "cv = KFold(n_splits=10, random_state=35, shuffle=True)"
      ]
    },
    {
      "cell_type": "code",
      "execution_count": null,
      "metadata": {
        "colab": {
          "base_uri": "https://localhost:8080/"
        },
        "id": "ll9rwYjbRHgI",
        "outputId": "a2d0afcf-ed9a-410e-8e6c-670185d6c3f3"
      },
      "outputs": [
        {
          "output_type": "stream",
          "name": "stdout",
          "text": [
            "Accuracy: 0.577 (0.028)\n"
          ]
        }
      ],
      "source": [
        "model11 = AdaBoostClassifier()\n",
        "scores11 = cross_val_score(model11, X1_train, y1_train, scoring='accuracy', cv=cv, n_jobs=-1)\n",
        "print('Accuracy: %.3f (%.3f)' % (mean(scores11), std(scores11)))"
      ]
    },
    {
      "cell_type": "code",
      "execution_count": null,
      "metadata": {
        "colab": {
          "base_uri": "https://localhost:8080/"
        },
        "id": "tghTRqtaP5uH",
        "outputId": "4303cc0a-90ea-43e1-f49d-f144101c813d"
      },
      "outputs": [
        {
          "output_type": "execute_result",
          "data": {
            "text/plain": [
              "array([0.55722892, 0.55873494, 0.57831325, 0.56626506, 0.55722892,\n",
              "       0.52409639, 0.60180995, 0.60180995, 0.62443439, 0.59879336])"
            ]
          },
          "metadata": {},
          "execution_count": 15
        }
      ],
      "source": [
        "scores11"
      ]
    },
    {
      "cell_type": "code",
      "execution_count": null,
      "metadata": {
        "colab": {
          "base_uri": "https://localhost:8080/"
        },
        "id": "TqSHdOtehApb",
        "outputId": "bf0bd7a7-8df9-4ef5-8d1f-a0f93450790d"
      },
      "outputs": [
        {
          "output_type": "stream",
          "name": "stdout",
          "text": [
            "Accuracy: 0.555 (0.019)\n"
          ]
        }
      ],
      "source": [
        "model12 = DecisionTreeClassifier()\n",
        "scores12 = cross_val_score(model12, X1_train, y1_train, scoring='accuracy', cv=cv, n_jobs=-1)\n",
        "print('Accuracy: %.3f (%.3f)' % (mean(scores12), std(scores12)))"
      ]
    },
    {
      "cell_type": "code",
      "execution_count": null,
      "metadata": {
        "colab": {
          "base_uri": "https://localhost:8080/"
        },
        "id": "6wmUaAcNQj32",
        "outputId": "b73fab5d-571d-4b82-8a69-88d78787ea8c"
      },
      "outputs": [
        {
          "output_type": "execute_result",
          "data": {
            "text/plain": [
              "array([0.53012048, 0.53162651, 0.57680723, 0.54518072, 0.55722892,\n",
              "       0.5376506 , 0.56259427, 0.56711916, 0.5520362 , 0.59426848])"
            ]
          },
          "metadata": {},
          "execution_count": 17
        }
      ],
      "source": [
        "scores12"
      ]
    },
    {
      "cell_type": "code",
      "execution_count": null,
      "metadata": {
        "colab": {
          "base_uri": "https://localhost:8080/"
        },
        "id": "eJ7Gz9oCigwq",
        "outputId": "0b0a26da-de20-46a7-c112-7d6f1015193e"
      },
      "outputs": [
        {
          "output_type": "stream",
          "name": "stdout",
          "text": [
            "Accuracy: 0.551 (0.021)\n"
          ]
        }
      ],
      "source": [
        "model13 = RandomForestClassifier()\n",
        "scores13 = cross_val_score(model13, X1_train, y1_train, scoring='accuracy', cv=cv, n_jobs=-1)\n",
        "print('Accuracy: %.3f (%.3f)' % (mean(scores13), std(scores13)))"
      ]
    },
    {
      "cell_type": "code",
      "execution_count": null,
      "metadata": {
        "colab": {
          "base_uri": "https://localhost:8080/"
        },
        "id": "CopDLg3mQlO4",
        "outputId": "3f145c05-2631-41d7-eaf4-0ee214d98b98"
      },
      "outputs": [
        {
          "output_type": "execute_result",
          "data": {
            "text/plain": [
              "array([0.52409639, 0.52409639, 0.57831325, 0.54518072, 0.54066265,\n",
              "       0.5436747 , 0.54298643, 0.55505279, 0.56108597, 0.59426848])"
            ]
          },
          "metadata": {},
          "execution_count": 19
        }
      ],
      "source": [
        "scores13"
      ]
    },
    {
      "cell_type": "code",
      "execution_count": null,
      "metadata": {
        "colab": {
          "base_uri": "https://localhost:8080/",
          "height": 334
        },
        "id": "mCrZLnk1YnIG",
        "outputId": "6cce23f8-8489-4f18-9d89-95222fe6e1fc"
      },
      "outputs": [
        {
          "output_type": "execute_result",
          "data": {
            "text/plain": [
              "[Text(0, 0.5, 'Skor Akurasi'),\n",
              " [Text(0, 0, 'AdaBoost'),\n",
              "  Text(0, 0, 'Decision Tree'),\n",
              "  Text(0, 0, 'Random Forest')]]"
            ]
          },
          "metadata": {},
          "execution_count": 20
        },
        {
          "output_type": "display_data",
          "data": {
            "text/plain": [
              "<Figure size 432x288 with 1 Axes>"
            ],
            "image/png": "[encoded data removed]"
          },
          "metadata": {
            "needs_background": "light"
          }
        }
      ],
      "source": [
        "scores1 = [scores11, scores12, scores13]\n",
        "sns.boxplot(data=scores1).set(xticklabels=['AdaBoost', 'Decision Tree', 'Random Forest'], ylabel='Skor Akurasi')"
      ]
    },
    {
      "cell_type": "code",
      "source": [
        "y_pred11 = cross_val_predict(model11, X1_train, y1_train, cv=cv)\n",
        "y_pred12 = cross_val_predict(model12, X1_train, y1_train, cv=cv)\n",
        "y_pred13 = cross_val_predict(model13, X1_train, y1_train, cv=cv)\n",
        "y1_val = y1_train.values"
      ],
      "metadata": {
        "id": "og3JPGUKJ_pX"
      },
      "execution_count": null,
      "outputs": []
    },
    {
      "cell_type": "code",
      "source": [
        "f, p = ftest(y1_val, y_pred11, y_pred12, y_pred13)\n",
        "\n",
        "# summarize\n",
        "print('P-value: %.3f, F-Statistic: %.3f' % (p, f))\n",
        "# interpret the result\n",
        "if p <= 0.05:\n",
        " print('Difference between mean performance is probably real')\n",
        "else:\n",
        " print('Algorithms probably have the same performance')"
      ],
      "metadata": {
        "colab": {
          "base_uri": "https://localhost:8080/"
        },
        "id": "EP75akstJS18",
        "outputId": "41c36f84-59c4-4a6b-fafc-9f6204032598"
      },
      "execution_count": null,
      "outputs": [
        {
          "output_type": "stream",
          "name": "stdout",
          "text": [
            "P-value: 0.000, F-Statistic: 12.190\n",
            "Difference between mean performance is probably real\n"
          ]
        },
        {
          "output_type": "stream",
          "name": "stderr",
          "text": [
            "/usr/local/lib/python3.8/dist-packages/mlxtend/evaluate/f_test.py:79: FutureWarning: arrays to stack must be passed as a \"sequence\" type such as list or tuple. Support for non-sequence iterables such as generators is deprecated as of NumPy 1.16 and will raise an error in the future.\n",
            "  ary = np.hstack(((y_target == mod).reshape(-1, 1) for\n"
          ]
        }
      ]
    },
    {
      "cell_type": "code",
      "source": [
        "# Bonferroni Correction\n",
        "alpha = 0.05/3"
      ],
      "metadata": {
        "id": "cLCh-AaedFa1"
      },
      "execution_count": null,
      "outputs": []
    },
    {
      "cell_type": "code",
      "source": [
        "t, p = paired_ttest_kfold_cv(estimator1=model11, estimator2=model12, cv=10, X=X1_train.to_numpy(), y=y1_train.to_numpy(), \n",
        "                             scoring='accuracy', random_seed=35, shuffle=True)\n",
        "# summarize\n",
        "print('P-value: %.3f, t-Statistic: %.3f' % (p, t))\n",
        "# interpret the result\n",
        "if p <= alpha:\n",
        " print('Difference between mean performance is probably real')\n",
        "else:\n",
        " print('Algorithms probably have the same performance')"
      ],
      "metadata": {
        "colab": {
          "base_uri": "https://localhost:8080/"
        },
        "id": "_CUDTm-eMPaA",
        "outputId": "f4c6e984-6580-4e14-abff-4588f0bc2d69"
      },
      "execution_count": null,
      "outputs": [
        {
          "output_type": "stream",
          "name": "stdout",
          "text": [
            "P-value: 0.023, t-Statistic: 2.733\n",
            "Algorithms probably have the same performance\n"
          ]
        }
      ]
    },
    {
      "cell_type": "code",
      "source": [
        "t, p = paired_ttest_kfold_cv(estimator1=model11, estimator2=model13, cv=10, X=X1_train.to_numpy(), y=y1_train.to_numpy(), \n",
        "                             scoring='accuracy', random_seed=35, shuffle=True)\n",
        "# summarize\n",
        "print('P-value: %.3f, t-Statistic: %.3f' % (p, t))\n",
        "# interpret the result\n",
        "if p <= alpha:\n",
        " print('Difference between mean performance is probably real')\n",
        "else:\n",
        " print('Algorithms probably have the same performance')"
      ],
      "metadata": {
        "colab": {
          "base_uri": "https://localhost:8080/"
        },
        "outputId": "0dce0a70-e8cc-4e2b-e016-bd3ca3e3668b",
        "id": "3FsREftcSKyM"
      },
      "execution_count": null,
      "outputs": [
        {
          "output_type": "stream",
          "name": "stdout",
          "text": [
            "P-value: 0.007, t-Statistic: 3.474\n",
            "Difference between mean performance is probably real\n"
          ]
        }
      ]
    },
    {
      "cell_type": "code",
      "source": [
        "t, p = paired_ttest_kfold_cv(estimator1=model12, estimator2=model13, cv=10, X=X1_train.to_numpy(), y=y1_train.to_numpy(), \n",
        "                             scoring='accuracy', random_seed=35, shuffle=True)\n",
        "# summarize\n",
        "print('P-value: %.3f, t-Statistic: %.3f' % (p, t))\n",
        "# interpret the result\n",
        "if p <= alpha:\n",
        " print('Difference between mean performance is probably real')\n",
        "else:\n",
        " print('Algorithms probably have the same performance')"
      ],
      "metadata": {
        "colab": {
          "base_uri": "https://localhost:8080/"
        },
        "outputId": "a9dc2675-16a6-4080-e0a3-71db0d0d64ab",
        "id": "odWCpGUsSOOL"
      },
      "execution_count": null,
      "outputs": [
        {
          "output_type": "stream",
          "name": "stdout",
          "text": [
            "P-value: 0.965, t-Statistic: 0.045\n",
            "Algorithms probably have the same performance\n"
          ]
        }
      ]
    },
    {
      "cell_type": "code",
      "execution_count": null,
      "metadata": {
        "colab": {
          "base_uri": "https://localhost:8080/",
          "height": 279
        },
        "id": "h2D6Sieu16Qi",
        "outputId": "c0feb788-4661-44e8-bc23-051acf434fd8"
      },
      "outputs": [
        {
          "output_type": "display_data",
          "data": {
            "text/plain": [
              "<Figure size 432x288 with 2 Axes>"
            ],
            "image/png": "[encoded data removed]"
          },
          "metadata": {
            "needs_background": "light"
          }
        }
      ],
      "source": [
        "model1 = AdaBoostClassifier(random_state=35)\n",
        "model1.fit(X1_train, y1_train)\n",
        "y_pred1 = model1.predict(X1_test)\n",
        "cm_display = ConfusionMatrixDisplay.from_predictions(y1_test, y_pred1, display_labels = ['Tidak Tepat Waktu', 'Tepat Waktu'], cmap='inferno')\n",
        "plt.show()"
      ]
    },
    {
      "cell_type": "code",
      "execution_count": null,
      "metadata": {
        "colab": {
          "base_uri": "https://localhost:8080/"
        },
        "id": "YiKgwXtY2NLT",
        "outputId": "7564e6cf-f40f-4e91-e33d-52b36cd3e46f"
      },
      "outputs": [
        {
          "output_type": "stream",
          "name": "stdout",
          "text": [
            "              precision    recall  f1-score   support\n",
            "\n",
            "           0       0.56      0.53      0.55       816\n",
            "           1       0.57      0.59      0.58       843\n",
            "\n",
            "    accuracy                           0.56      1659\n",
            "   macro avg       0.56      0.56      0.56      1659\n",
            "weighted avg       0.56      0.56      0.56      1659\n",
            "\n"
          ]
        }
      ],
      "source": [
        "report1 = classification_report(y1_test, y_pred1)\n",
        "print(report1)"
      ]
    },
    {
      "cell_type": "markdown",
      "source": [
        "## Model 2 (Smt 2)"
      ],
      "metadata": {
        "id": "bSfIKLbNv2RV"
      }
    },
    {
      "cell_type": "code",
      "execution_count": null,
      "metadata": {
        "id": "nI_gDjeFjjv3"
      },
      "outputs": [],
      "source": [
        "feature_columns2 = ['S1','S2','SKS_S2']\n",
        "X2 = final_df[feature_columns2]\n",
        "y2 = final_df['STATUS']\n",
        "X2_train, X2_test, y2_train, y2_test = train_test_split(X2, y2, random_state=35, test_size=0.2, shuffle=True)"
      ]
    },
    {
      "cell_type": "code",
      "execution_count": null,
      "metadata": {
        "colab": {
          "base_uri": "https://localhost:8080/"
        },
        "id": "22djYpYa7dyx",
        "outputId": "c6d66e81-6898-450c-ef30-95a6ad673952"
      },
      "outputs": [
        {
          "output_type": "stream",
          "name": "stdout",
          "text": [
            "Accuracy: 0.587 (0.019)\n"
          ]
        }
      ],
      "source": [
        "model21 = AdaBoostClassifier()\n",
        "scores21 = cross_val_score(model21, X2_train, y2_train, scoring='accuracy', cv=cv, n_jobs=-1)\n",
        "print('Accuracy: %.3f (%.3f)' % (mean(scores21), std(scores21)))"
      ]
    },
    {
      "cell_type": "code",
      "execution_count": null,
      "metadata": {
        "colab": {
          "base_uri": "https://localhost:8080/"
        },
        "id": "17Aaw2otYEpW",
        "outputId": "f856b5e0-6820-468a-b76e-1f745b5ea735"
      },
      "outputs": [
        {
          "output_type": "execute_result",
          "data": {
            "text/plain": [
              "array([0.5753012 , 0.57228916, 0.56777108, 0.59337349, 0.57228916,\n",
              "       0.56024096, 0.59276018, 0.61840121, 0.61085973, 0.60331825])"
            ]
          },
          "metadata": {},
          "execution_count": 31
        }
      ],
      "source": [
        "scores21"
      ]
    },
    {
      "cell_type": "code",
      "execution_count": null,
      "metadata": {
        "colab": {
          "base_uri": "https://localhost:8080/"
        },
        "id": "LGo3ugdJ7dyz",
        "outputId": "6568eb07-78ed-4973-b2b1-f260a7f3cd65"
      },
      "outputs": [
        {
          "output_type": "stream",
          "name": "stdout",
          "text": [
            "Accuracy: 0.537 (0.023)\n"
          ]
        }
      ],
      "source": [
        "model22 = DecisionTreeClassifier()\n",
        "scores22 = cross_val_score(model22, X2_train, y2_train, scoring='accuracy', cv=cv, n_jobs=-1)\n",
        "print('Accuracy: %.3f (%.3f)' % (mean(scores22), std(scores22)))"
      ]
    },
    {
      "cell_type": "code",
      "execution_count": null,
      "metadata": {
        "colab": {
          "base_uri": "https://localhost:8080/"
        },
        "id": "EdBFPDYPYHTb",
        "outputId": "c90c9ef1-74a1-4b7d-f754-6295485be2a9"
      },
      "outputs": [
        {
          "output_type": "execute_result",
          "data": {
            "text/plain": [
              "array([0.5       , 0.51054217, 0.55722892, 0.55873494, 0.53614458,\n",
              "       0.52409639, 0.53393665, 0.52337858, 0.58220211, 0.54298643])"
            ]
          },
          "metadata": {},
          "execution_count": 33
        }
      ],
      "source": [
        "scores22"
      ]
    },
    {
      "cell_type": "code",
      "execution_count": null,
      "metadata": {
        "colab": {
          "base_uri": "https://localhost:8080/"
        },
        "id": "5PpYt4ny7dyz",
        "outputId": "4483e6d9-7f7c-4bbb-be4f-52bc73b148f4"
      },
      "outputs": [
        {
          "output_type": "stream",
          "name": "stdout",
          "text": [
            "Accuracy: 0.557 (0.018)\n"
          ]
        }
      ],
      "source": [
        "model23 = RandomForestClassifier()\n",
        "scores23 = cross_val_score(model23, X2_train, y2_train, scoring='accuracy', cv=cv, n_jobs=-1)\n",
        "print('Accuracy: %.3f (%.3f)' % (mean(scores23), std(scores23)))"
      ]
    },
    {
      "cell_type": "code",
      "execution_count": null,
      "metadata": {
        "colab": {
          "base_uri": "https://localhost:8080/"
        },
        "id": "ew4y3ZcQYKq5",
        "outputId": "1ac8c380-1ff9-461a-cae0-dd7067b9b0c9"
      },
      "outputs": [
        {
          "output_type": "execute_result",
          "data": {
            "text/plain": [
              "array([0.54066265, 0.5376506 , 0.5873494 , 0.57078313, 0.54216867,\n",
              "       0.54216867, 0.57013575, 0.53846154, 0.58220211, 0.55354449])"
            ]
          },
          "metadata": {},
          "execution_count": 35
        }
      ],
      "source": [
        "scores23"
      ]
    },
    {
      "cell_type": "code",
      "execution_count": null,
      "metadata": {
        "colab": {
          "base_uri": "https://localhost:8080/",
          "height": 334
        },
        "id": "PEkms2HNmhLn",
        "outputId": "27e3808d-1fea-4787-eb89-07a73ebda186"
      },
      "outputs": [
        {
          "output_type": "execute_result",
          "data": {
            "text/plain": [
              "[Text(0, 0.5, 'Skor Akurasi'),\n",
              " [Text(0, 0, 'AdaBoost'),\n",
              "  Text(0, 0, 'Decision Tree'),\n",
              "  Text(0, 0, 'Random Forest')]]"
            ]
          },
          "metadata": {},
          "execution_count": 36
        },
        {
          "output_type": "display_data",
          "data": {
            "text/plain": [
              "<Figure size 432x288 with 1 Axes>"
            ],
            "image/png": "[encoded data removed]"
          },
          "metadata": {
            "needs_background": "light"
          }
        }
      ],
      "source": [
        "scores2 = [scores21, scores22, scores23]\n",
        "sns.boxplot(data=scores2).set(xticklabels=['AdaBoost', 'Decision Tree', 'Random Forest'], ylabel='Skor Akurasi')"
      ]
    },
    {
      "cell_type": "code",
      "source": [
        "y_pred21 = cross_val_predict(model21, X2_train, y2_train, cv=cv)\n",
        "y_pred22 = cross_val_predict(model22, X2_train, y2_train, cv=cv)\n",
        "y_pred23 = cross_val_predict(model23, X2_train, y2_train, cv=cv)\n",
        "y2_val = y2_train.values"
      ],
      "metadata": {
        "id": "rqY59q-hZPGf"
      },
      "execution_count": null,
      "outputs": []
    },
    {
      "cell_type": "code",
      "source": [
        "f, p = ftest(y2_val, y_pred21, y_pred22, y_pred23)\n",
        "\n",
        "# summarize\n",
        "print('P-value: %.3f, F-Statistic: %.3f' % (p, f))\n",
        "# interpret the result\n",
        "if p <= 0.05:\n",
        " print('Difference between mean performance is probably real')\n",
        "else:\n",
        " print('Algorithms probably have the same performance')"
      ],
      "metadata": {
        "colab": {
          "base_uri": "https://localhost:8080/"
        },
        "outputId": "0f00bd9f-6dbf-4263-9c3c-55630166dc3a",
        "id": "w_3vUmPLZPGm"
      },
      "execution_count": null,
      "outputs": [
        {
          "output_type": "stream",
          "name": "stdout",
          "text": [
            "P-value: 0.000, F-Statistic: 26.602\n",
            "Difference between mean performance is probably real\n"
          ]
        },
        {
          "output_type": "stream",
          "name": "stderr",
          "text": [
            "/usr/local/lib/python3.8/dist-packages/mlxtend/evaluate/f_test.py:79: FutureWarning: arrays to stack must be passed as a \"sequence\" type such as list or tuple. Support for non-sequence iterables such as generators is deprecated as of NumPy 1.16 and will raise an error in the future.\n",
            "  ary = np.hstack(((y_target == mod).reshape(-1, 1) for\n"
          ]
        }
      ]
    },
    {
      "cell_type": "code",
      "source": [
        "t, p = paired_ttest_kfold_cv(estimator1=model21, estimator2=model22, cv=10, X=X2_train.to_numpy(), y=y2_train.to_numpy(), \n",
        "                             scoring='accuracy', random_seed=35, shuffle=True)\n",
        "# summarize\n",
        "print('P-value: %.3f, t-Statistic: %.3f' % (p, t))\n",
        "# interpret the result\n",
        "if p <= alpha:\n",
        " print('Difference between mean performance is probably real')\n",
        "else:\n",
        " print('Algorithms probably have the same performance')"
      ],
      "metadata": {
        "colab": {
          "base_uri": "https://localhost:8080/"
        },
        "outputId": "bd8c1b62-ff7c-4803-f4d9-bf60d8557486",
        "id": "WJK8h0p4ZPGn"
      },
      "execution_count": null,
      "outputs": [
        {
          "output_type": "stream",
          "name": "stdout",
          "text": [
            "P-value: 0.000, t-Statistic: 6.862\n",
            "Difference between mean performance is probably real\n"
          ]
        }
      ]
    },
    {
      "cell_type": "code",
      "source": [
        "t, p = paired_ttest_kfold_cv(estimator1=model21, estimator2=model23, cv=10, X=X2_train.to_numpy(), y=y2_train.to_numpy(), \n",
        "                             scoring='accuracy', random_seed=35, shuffle=True)\n",
        "# summarize\n",
        "print('P-value: %.3f, t-Statistic: %.3f' % (p, t))\n",
        "# interpret the result\n",
        "if p <= alpha:\n",
        " print('Difference between mean performance is probably real')\n",
        "else:\n",
        " print('Algorithms probably have the same performance')"
      ],
      "metadata": {
        "colab": {
          "base_uri": "https://localhost:8080/"
        },
        "outputId": "3eb8d7ae-da32-4561-e239-9f81c2a0f338",
        "id": "YGfbQru8ZPGn"
      },
      "execution_count": null,
      "outputs": [
        {
          "output_type": "stream",
          "name": "stdout",
          "text": [
            "P-value: 0.003, t-Statistic: 4.039\n",
            "Difference between mean performance is probably real\n"
          ]
        }
      ]
    },
    {
      "cell_type": "code",
      "source": [
        "t, p = paired_ttest_kfold_cv(estimator1=model22, estimator2=model23, cv=10, X=X2_train.to_numpy(), y=y2_train.to_numpy(), \n",
        "                             scoring='accuracy', random_seed=35, shuffle=True)\n",
        "# summarize\n",
        "print('P-value: %.3f, t-Statistic: %.3f' % (p, t))\n",
        "# interpret the result\n",
        "if p <= alpha:\n",
        " print('Difference between mean performance is probably real')\n",
        "else:\n",
        " print('Algorithms probably have the same performance')"
      ],
      "metadata": {
        "colab": {
          "base_uri": "https://localhost:8080/"
        },
        "outputId": "b2e3d66f-12d1-464b-bc9c-a0a85dbc92d8",
        "id": "buQGuUHEZPGn"
      },
      "execution_count": null,
      "outputs": [
        {
          "output_type": "stream",
          "name": "stdout",
          "text": [
            "P-value: 0.005, t-Statistic: -3.706\n",
            "Difference between mean performance is probably real\n"
          ]
        }
      ]
    },
    {
      "cell_type": "code",
      "execution_count": null,
      "metadata": {
        "colab": {
          "base_uri": "https://localhost:8080/",
          "height": 279
        },
        "outputId": "39375de4-8869-4607-ec3a-920525533c18",
        "id": "0FRjY2yQ3USe"
      },
      "outputs": [
        {
          "output_type": "display_data",
          "data": {
            "text/plain": [
              "<Figure size 432x288 with 2 Axes>"
            ],
            "image/png": "[encoded data removed]"
          },
          "metadata": {
            "needs_background": "light"
          }
        }
      ],
      "source": [
        "model2 = AdaBoostClassifier(random_state=35)\n",
        "model2.fit(X2_train, y2_train)\n",
        "y_pred2 = model2.predict(X2_test)\n",
        "cm_display = ConfusionMatrixDisplay.from_predictions(y2_test, y_pred2, display_labels = ['Tidak Tepat Waktu', 'Tepat Waktu'], cmap='inferno')\n",
        "plt.show()"
      ]
    },
    {
      "cell_type": "code",
      "execution_count": null,
      "metadata": {
        "colab": {
          "base_uri": "https://localhost:8080/"
        },
        "outputId": "e05a67f0-5b32-4ed0-fec9-c39d1b1d0a67",
        "id": "AP0OO7XB3USf"
      },
      "outputs": [
        {
          "output_type": "stream",
          "name": "stdout",
          "text": [
            "              precision    recall  f1-score   support\n",
            "\n",
            "           0       0.56      0.61      0.58       816\n",
            "           1       0.59      0.53      0.56       843\n",
            "\n",
            "    accuracy                           0.57      1659\n",
            "   macro avg       0.57      0.57      0.57      1659\n",
            "weighted avg       0.57      0.57      0.57      1659\n",
            "\n"
          ]
        }
      ],
      "source": [
        "report2 = classification_report(y2_test, y_pred2)\n",
        "print(report2)"
      ]
    },
    {
      "cell_type": "markdown",
      "source": [
        "## Model 3 (Smt 3)"
      ],
      "metadata": {
        "id": "9uMhmiK4xZBC"
      }
    },
    {
      "cell_type": "code",
      "execution_count": null,
      "metadata": {
        "id": "MgHFAD75rzDr"
      },
      "outputs": [],
      "source": [
        "feature_columns3 = ['S1','S2','S3','SKS_S3']\n",
        "X3 = final_df[feature_columns3]\n",
        "y3 = final_df['STATUS']\n",
        "X3_train, X3_test, y3_train, y3_test = train_test_split(X3, y3, random_state=35, test_size=0.2, shuffle=True)"
      ]
    },
    {
      "cell_type": "code",
      "execution_count": null,
      "metadata": {
        "colab": {
          "base_uri": "https://localhost:8080/"
        },
        "id": "iXAYNQLe8zcR",
        "outputId": "5af5322f-28a0-4100-c465-8a61a78a1c34"
      },
      "outputs": [
        {
          "output_type": "stream",
          "name": "stdout",
          "text": [
            "Accuracy: 0.600 (0.013)\n"
          ]
        }
      ],
      "source": [
        "model31 = AdaBoostClassifier()\n",
        "scores31 = cross_val_score(model31, X3_train, y3_train, scoring='accuracy', cv=cv, n_jobs=-1)\n",
        "print('Accuracy: %.3f (%.3f)' % (mean(scores31), std(scores31)))"
      ]
    },
    {
      "cell_type": "code",
      "execution_count": null,
      "metadata": {
        "colab": {
          "base_uri": "https://localhost:8080/"
        },
        "id": "OXIr4w41ZEGd",
        "outputId": "8725c918-4e48-4548-f8f9-7a67d997ef88"
      },
      "outputs": [
        {
          "output_type": "execute_result",
          "data": {
            "text/plain": [
              "array([0.60542169, 0.59487952, 0.58584337, 0.60692771, 0.5813253 ,\n",
              "       0.58584337, 0.59426848, 0.61840121, 0.60030166, 0.62292609])"
            ]
          },
          "metadata": {},
          "execution_count": 46
        }
      ],
      "source": [
        "scores31"
      ]
    },
    {
      "cell_type": "code",
      "execution_count": null,
      "metadata": {
        "colab": {
          "base_uri": "https://localhost:8080/"
        },
        "id": "0Ojkuf5A8zcT",
        "outputId": "a12ea0f8-95c8-475d-857d-5d66b41782fe"
      },
      "outputs": [
        {
          "output_type": "stream",
          "name": "stdout",
          "text": [
            "Accuracy: 0.546 (0.009)\n"
          ]
        }
      ],
      "source": [
        "model32 = DecisionTreeClassifier()\n",
        "scores32 = cross_val_score(model32, X3_train, y3_train, scoring='accuracy', cv=cv, n_jobs=-1)\n",
        "print('Accuracy: %.3f (%.3f)' % (mean(scores32), std(scores32)))"
      ]
    },
    {
      "cell_type": "code",
      "execution_count": null,
      "metadata": {
        "colab": {
          "base_uri": "https://localhost:8080/"
        },
        "id": "iqzow6J4ZGIL",
        "outputId": "e8e96a49-b627-4d1a-d56f-70f02f7fd4b6"
      },
      "outputs": [
        {
          "output_type": "execute_result",
          "data": {
            "text/plain": [
              "array([0.53162651, 0.55120482, 0.5436747 , 0.54066265, 0.54216867,\n",
              "       0.54819277, 0.53996983, 0.56108597, 0.56259427, 0.53996983])"
            ]
          },
          "metadata": {},
          "execution_count": 48
        }
      ],
      "source": [
        "scores32"
      ]
    },
    {
      "cell_type": "code",
      "execution_count": null,
      "metadata": {
        "colab": {
          "base_uri": "https://localhost:8080/"
        },
        "id": "hKEovoYY8zcT",
        "outputId": "47e644d9-b606-4b67-86d2-faeadeba453f"
      },
      "outputs": [
        {
          "output_type": "stream",
          "name": "stdout",
          "text": [
            "Accuracy: 0.580 (0.016)\n"
          ]
        }
      ],
      "source": [
        "model33 = RandomForestClassifier()\n",
        "scores33 = cross_val_score(model33, X3_train, y3_train, scoring='accuracy', cv=cv, n_jobs=-1)\n",
        "print('Accuracy: %.3f (%.3f)' % (mean(scores33), std(scores33)))"
      ]
    },
    {
      "cell_type": "code",
      "execution_count": null,
      "metadata": {
        "colab": {
          "base_uri": "https://localhost:8080/"
        },
        "id": "xxCxtE-VZHo1",
        "outputId": "fa12dab1-8672-4d86-af48-243ec578335c"
      },
      "outputs": [
        {
          "output_type": "execute_result",
          "data": {
            "text/plain": [
              "array([0.59939759, 0.58283133, 0.55722892, 0.59036145, 0.55421687,\n",
              "       0.57680723, 0.56862745, 0.60784314, 0.57767722, 0.58974359])"
            ]
          },
          "metadata": {},
          "execution_count": 50
        }
      ],
      "source": [
        "scores33"
      ]
    },
    {
      "cell_type": "code",
      "execution_count": null,
      "metadata": {
        "colab": {
          "base_uri": "https://localhost:8080/",
          "height": 334
        },
        "id": "mvpRBgyAZOpL",
        "outputId": "7a960b91-fb26-490b-be87-5d8355619ead"
      },
      "outputs": [
        {
          "output_type": "execute_result",
          "data": {
            "text/plain": [
              "[Text(0, 0.5, 'Skor Akurasi'),\n",
              " [Text(0, 0, 'AdaBoost'),\n",
              "  Text(0, 0, 'Decision Tree'),\n",
              "  Text(0, 0, 'Random Forest')]]"
            ]
          },
          "metadata": {},
          "execution_count": 51
        },
        {
          "output_type": "display_data",
          "data": {
            "text/plain": [
              "<Figure size 432x288 with 1 Axes>"
            ],
            "image/png": "[encoded data removed]"
          },
          "metadata": {
            "needs_background": "light"
          }
        }
      ],
      "source": [
        "scores3 = [scores31, scores32, scores33]\n",
        "sns.boxplot(data=scores3).set(xticklabels=['AdaBoost', 'Decision Tree', 'Random Forest'], ylabel='Skor Akurasi')"
      ]
    },
    {
      "cell_type": "code",
      "source": [
        "y_pred31 = cross_val_predict(model31, X3_train, y3_train, cv=cv)\n",
        "y_pred32 = cross_val_predict(model32, X3_train, y3_train, cv=cv)\n",
        "y_pred33 = cross_val_predict(model33, X3_train, y3_train, cv=cv)\n",
        "y3_val = y3_train.values"
      ],
      "metadata": {
        "id": "_6xq2losankU"
      },
      "execution_count": null,
      "outputs": []
    },
    {
      "cell_type": "code",
      "source": [
        "f, p = ftest(y3_val, y_pred31, y_pred32, y_pred33)\n",
        "\n",
        "# summarize\n",
        "print('P-value: %.3f, F-Statistic: %.3f' % (p, f))\n",
        "# interpret the result\n",
        "if p <= 0.05:\n",
        " print('Difference between mean performance is probably real')\n",
        "else:\n",
        " print('Algorithms probably have the same performance')"
      ],
      "metadata": {
        "colab": {
          "base_uri": "https://localhost:8080/"
        },
        "outputId": "2af6c418-6454-42d1-e391-0fcf49a003a4",
        "id": "UyKVzv87ankc"
      },
      "execution_count": null,
      "outputs": [
        {
          "output_type": "stream",
          "name": "stdout",
          "text": [
            "P-value: 0.000, F-Statistic: 29.651\n",
            "Difference between mean performance is probably real\n"
          ]
        },
        {
          "output_type": "stream",
          "name": "stderr",
          "text": [
            "/usr/local/lib/python3.8/dist-packages/mlxtend/evaluate/f_test.py:79: FutureWarning: arrays to stack must be passed as a \"sequence\" type such as list or tuple. Support for non-sequence iterables such as generators is deprecated as of NumPy 1.16 and will raise an error in the future.\n",
            "  ary = np.hstack(((y_target == mod).reshape(-1, 1) for\n"
          ]
        }
      ]
    },
    {
      "cell_type": "code",
      "source": [
        "t, p = paired_ttest_kfold_cv(estimator1=model31, estimator2=model32, cv=10, X=X3_train.to_numpy(), y=y3_train.to_numpy(), \n",
        "                             scoring='accuracy', random_seed=35, shuffle=True)\n",
        "# summarize\n",
        "print('P-value: %.3f, t-Statistic: %.3f' % (p, t))\n",
        "# interpret the result\n",
        "if p <= alpha:\n",
        " print('Difference between mean performance is probably real')\n",
        "else:\n",
        " print('Algorithms probably have the same performance')"
      ],
      "metadata": {
        "colab": {
          "base_uri": "https://localhost:8080/"
        },
        "outputId": "ce7ce884-b8a1-47ec-a438-d34769da35aa",
        "id": "Pli2mXt8ankc"
      },
      "execution_count": null,
      "outputs": [
        {
          "output_type": "stream",
          "name": "stdout",
          "text": [
            "P-value: 0.000, t-Statistic: 11.538\n",
            "Difference between mean performance is probably real\n"
          ]
        }
      ]
    },
    {
      "cell_type": "code",
      "source": [
        "t, p = paired_ttest_kfold_cv(estimator1=model31, estimator2=model33, cv=10, X=X3_train.to_numpy(), y=y3_train.to_numpy(), \n",
        "                             scoring='accuracy', random_seed=35, shuffle=True)\n",
        "# summarize\n",
        "print('P-value: %.3f, t-Statistic: %.3f' % (p, t))\n",
        "# interpret the result\n",
        "if p <= alpha:\n",
        " print('Difference between mean performance is probably real')\n",
        "else:\n",
        " print('Algorithms probably have the same performance')"
      ],
      "metadata": {
        "colab": {
          "base_uri": "https://localhost:8080/"
        },
        "outputId": "2f56d3d5-ff58-4a9f-d6fc-6a376b3d1f15",
        "id": "AcUgkpjbankc"
      },
      "execution_count": null,
      "outputs": [
        {
          "output_type": "stream",
          "name": "stdout",
          "text": [
            "P-value: 0.002, t-Statistic: 4.278\n",
            "Difference between mean performance is probably real\n"
          ]
        }
      ]
    },
    {
      "cell_type": "code",
      "source": [
        "t, p = paired_ttest_kfold_cv(estimator1=model32, estimator2=model33, cv=10, X=X3_train.to_numpy(), y=y3_train.to_numpy(), \n",
        "                             scoring='accuracy', random_seed=35, shuffle=True)\n",
        "# summarize\n",
        "print('P-value: %.3f, t-Statistic: %.3f' % (p, t))\n",
        "# interpret the result\n",
        "if p <= alpha:\n",
        " print('Difference between mean performance is probably real')\n",
        "else:\n",
        " print('Algorithms probably have the same performance')"
      ],
      "metadata": {
        "colab": {
          "base_uri": "https://localhost:8080/"
        },
        "outputId": "4c7e0c57-fc70-4ccc-f472-48944b274fd3",
        "id": "CUJq6vicankd"
      },
      "execution_count": null,
      "outputs": [
        {
          "output_type": "stream",
          "name": "stdout",
          "text": [
            "P-value: 0.000, t-Statistic: -6.748\n",
            "Difference between mean performance is probably real\n"
          ]
        }
      ]
    },
    {
      "cell_type": "code",
      "execution_count": null,
      "metadata": {
        "colab": {
          "base_uri": "https://localhost:8080/",
          "height": 283
        },
        "outputId": "1eccd841-1aaa-40e3-af9d-ac18feea2bd5",
        "id": "eMBG02Nl37Bo"
      },
      "outputs": [
        {
          "output_type": "display_data",
          "data": {
            "text/plain": [
              "<Figure size 432x288 with 2 Axes>"
            ],
            "image/png": "[encoded data removed]"
          },
          "metadata": {
            "needs_background": "light"
          }
        }
      ],
      "source": [
        "model3 = AdaBoostClassifier(random_state=35)\n",
        "model3.fit(X3_train, y3_train)\n",
        "y_pred3 = model3.predict(X3_test)\n",
        "cm_display = ConfusionMatrixDisplay.from_predictions(y3_test, y_pred3, display_labels = ['Tidak Tepat Waktu', 'Tepat Waktu'], cmap='inferno')\n",
        "plt.show()"
      ]
    },
    {
      "cell_type": "code",
      "execution_count": null,
      "metadata": {
        "colab": {
          "base_uri": "https://localhost:8080/"
        },
        "outputId": "373fd706-bb4c-4033-a052-14053238bf6b",
        "id": "_bWOT4Gb37Bq"
      },
      "outputs": [
        {
          "output_type": "stream",
          "name": "stdout",
          "text": [
            "              precision    recall  f1-score   support\n",
            "\n",
            "           0       0.57      0.67      0.62       816\n",
            "           1       0.62      0.52      0.56       843\n",
            "\n",
            "    accuracy                           0.59      1659\n",
            "   macro avg       0.60      0.60      0.59      1659\n",
            "weighted avg       0.60      0.59      0.59      1659\n",
            "\n"
          ]
        }
      ],
      "source": [
        "report3 = classification_report(y3_test, y_pred3)\n",
        "print(report3)"
      ]
    },
    {
      "cell_type": "markdown",
      "source": [
        "## Model 4 (Smt 4)"
      ],
      "metadata": {
        "id": "3bdbvZH4zMLA"
      }
    },
    {
      "cell_type": "code",
      "execution_count": null,
      "metadata": {
        "id": "rIxLg5z7wSy5"
      },
      "outputs": [],
      "source": [
        "feature_columns4 = ['S1','S2','S3','S4','SKS_S4']\n",
        "X4 = final_df[feature_columns4]\n",
        "y4 = final_df['STATUS']\n",
        "X4_train, X4_test, y4_train, y4_test = train_test_split(X4, y4, random_state=35, test_size=0.2, shuffle=True)"
      ]
    },
    {
      "cell_type": "code",
      "execution_count": null,
      "metadata": {
        "colab": {
          "base_uri": "https://localhost:8080/"
        },
        "id": "MAkw7r_y-aGt",
        "outputId": "c80e1d4b-5f34-4432-eb88-bc55cc6a0991"
      },
      "outputs": [
        {
          "output_type": "stream",
          "name": "stdout",
          "text": [
            "Accuracy: 0.611 (0.016)\n"
          ]
        }
      ],
      "source": [
        "model41 = AdaBoostClassifier()\n",
        "scores41 = cross_val_score(model41, X4_train, y4_train, scoring='accuracy', cv=cv, n_jobs=-1)\n",
        "print('Accuracy: %.3f (%.3f)' % (mean(scores41), std(scores41)))"
      ]
    },
    {
      "cell_type": "code",
      "execution_count": null,
      "metadata": {
        "colab": {
          "base_uri": "https://localhost:8080/"
        },
        "id": "ViO7fDRKZ_z-",
        "outputId": "c8a47054-380a-4e98-865e-1fd6931f4bd5"
      },
      "outputs": [
        {
          "output_type": "execute_result",
          "data": {
            "text/plain": [
              "array([0.63253012, 0.60993976, 0.6310241 , 0.59487952, 0.63403614,\n",
              "       0.58885542, 0.59276018, 0.60180995, 0.6214178 , 0.60633484])"
            ]
          },
          "metadata": {},
          "execution_count": 61
        }
      ],
      "source": [
        "scores41"
      ]
    },
    {
      "cell_type": "code",
      "execution_count": null,
      "metadata": {
        "colab": {
          "base_uri": "https://localhost:8080/"
        },
        "id": "e4qECN_D-aGu",
        "outputId": "9c6de939-73b4-4350-e744-5fe64e0ac174"
      },
      "outputs": [
        {
          "output_type": "stream",
          "name": "stdout",
          "text": [
            "Accuracy: 0.552 (0.017)\n"
          ]
        }
      ],
      "source": [
        "model42 = DecisionTreeClassifier()\n",
        "scores42 = cross_val_score(model42, X4_train, y4_train, scoring='accuracy', cv=cv, n_jobs=-1)\n",
        "print('Accuracy: %.3f (%.3f)' % (mean(scores42), std(scores42)))"
      ]
    },
    {
      "cell_type": "code",
      "execution_count": null,
      "metadata": {
        "colab": {
          "base_uri": "https://localhost:8080/"
        },
        "id": "qCvy37NJaAvY",
        "outputId": "fc2c7a9e-b304-4716-bf80-c474d684e1e0"
      },
      "outputs": [
        {
          "output_type": "execute_result",
          "data": {
            "text/plain": [
              "array([0.55722892, 0.54668675, 0.54819277, 0.5436747 , 0.52259036,\n",
              "       0.55572289, 0.53544495, 0.59125189, 0.56259427, 0.55806938])"
            ]
          },
          "metadata": {},
          "execution_count": 63
        }
      ],
      "source": [
        "scores42"
      ]
    },
    {
      "cell_type": "code",
      "execution_count": null,
      "metadata": {
        "colab": {
          "base_uri": "https://localhost:8080/"
        },
        "id": "yIsSaAep-aGv",
        "outputId": "8e320e71-23a2-4400-adf6-1d277d3dd7a3"
      },
      "outputs": [
        {
          "output_type": "stream",
          "name": "stdout",
          "text": [
            "Accuracy: 0.602 (0.020)\n"
          ]
        }
      ],
      "source": [
        "model43 = RandomForestClassifier()\n",
        "scores43 = cross_val_score(model43, X4_train, y4_train, scoring='accuracy', cv=cv, n_jobs=-1)\n",
        "print('Accuracy: %.3f (%.3f)' % (mean(scores43), std(scores43)))"
      ]
    },
    {
      "cell_type": "code",
      "execution_count": null,
      "metadata": {
        "colab": {
          "base_uri": "https://localhost:8080/"
        },
        "id": "l77E-OltaB2R",
        "outputId": "891e080f-8579-4239-ad7f-6358797d8202"
      },
      "outputs": [
        {
          "output_type": "execute_result",
          "data": {
            "text/plain": [
              "array([0.63554217, 0.57831325, 0.61746988, 0.58433735, 0.5873494 ,\n",
              "       0.60090361, 0.57466063, 0.60633484, 0.61387632, 0.62594268])"
            ]
          },
          "metadata": {},
          "execution_count": 65
        }
      ],
      "source": [
        "scores43"
      ]
    },
    {
      "cell_type": "code",
      "execution_count": null,
      "metadata": {
        "colab": {
          "base_uri": "https://localhost:8080/",
          "height": 336
        },
        "id": "d5FyLHm2aFrD",
        "outputId": "d2362e14-79ea-400e-feff-0c388534d6b0"
      },
      "outputs": [
        {
          "output_type": "execute_result",
          "data": {
            "text/plain": [
              "[Text(0, 0.5, 'Skor Akurasi'),\n",
              " [Text(0, 0, 'AdaBoost'),\n",
              "  Text(0, 0, 'Decision Tree'),\n",
              "  Text(0, 0, 'Random Forest')]]"
            ]
          },
          "metadata": {},
          "execution_count": 66
        },
        {
          "output_type": "display_data",
          "data": {
            "text/plain": [
              "<Figure size 432x288 with 1 Axes>"
            ],
            "image/png": "[encoded data removed]"
          },
          "metadata": {
            "needs_background": "light"
          }
        }
      ],
      "source": [
        "scores4 = [scores41, scores42, scores43]\n",
        "sns.boxplot(data=scores4).set(xticklabels=['AdaBoost', 'Decision Tree', 'Random Forest'], ylabel='Skor Akurasi')"
      ]
    },
    {
      "cell_type": "code",
      "source": [
        "y_pred41 = cross_val_predict(model41, X4_train, y4_train, cv=cv)\n",
        "y_pred42 = cross_val_predict(model42, X4_train, y4_train, cv=cv)\n",
        "y_pred43 = cross_val_predict(model43, X4_train, y4_train, cv=cv)\n",
        "y4_val = y4_train.values"
      ],
      "metadata": {
        "id": "dO-5ZOtHb7vE"
      },
      "execution_count": null,
      "outputs": []
    },
    {
      "cell_type": "code",
      "source": [
        "f, p = ftest(y4_val, y_pred41, y_pred42, y_pred43)\n",
        "\n",
        "# summarize\n",
        "print('P-value: %.3f, F-Statistic: %.3f' % (p, f))\n",
        "# interpret the result\n",
        "if p <= 0.05:\n",
        " print('Difference between mean performance is probably real')\n",
        "else:\n",
        " print('Algorithms probably have the same performance')"
      ],
      "metadata": {
        "colab": {
          "base_uri": "https://localhost:8080/"
        },
        "outputId": "4fe5ec4e-02be-403d-eebe-616d2d45c9fb",
        "id": "buHkCLHIb7vM"
      },
      "execution_count": null,
      "outputs": [
        {
          "output_type": "stream",
          "name": "stdout",
          "text": [
            "P-value: 0.000, F-Statistic: 43.826\n",
            "Difference between mean performance is probably real\n"
          ]
        },
        {
          "output_type": "stream",
          "name": "stderr",
          "text": [
            "/usr/local/lib/python3.8/dist-packages/mlxtend/evaluate/f_test.py:79: FutureWarning: arrays to stack must be passed as a \"sequence\" type such as list or tuple. Support for non-sequence iterables such as generators is deprecated as of NumPy 1.16 and will raise an error in the future.\n",
            "  ary = np.hstack(((y_target == mod).reshape(-1, 1) for\n"
          ]
        }
      ]
    },
    {
      "cell_type": "code",
      "source": [
        "t, p = paired_ttest_kfold_cv(estimator1=model41, estimator2=model42, cv=10, X=X4_train.to_numpy(), y=y4_train.to_numpy(), \n",
        "                             scoring='accuracy', random_seed=35, shuffle=True)\n",
        "# summarize\n",
        "print('P-value: %.3f, t-Statistic: %.3f' % (p, t))\n",
        "# interpret the result\n",
        "if p <= alpha:\n",
        " print('Difference between mean performance is probably real')\n",
        "else:\n",
        " print('Algorithms probably have the same performance')"
      ],
      "metadata": {
        "colab": {
          "base_uri": "https://localhost:8080/"
        },
        "outputId": "2180aa65-b451-4ba5-d78c-e2d052c9f81d",
        "id": "zoapEk4jb7vN"
      },
      "execution_count": null,
      "outputs": [
        {
          "output_type": "stream",
          "name": "stdout",
          "text": [
            "P-value: 0.000, t-Statistic: 6.454\n",
            "Difference between mean performance is probably real\n"
          ]
        }
      ]
    },
    {
      "cell_type": "code",
      "source": [
        "t, p = paired_ttest_kfold_cv(estimator1=model41, estimator2=model43, cv=10, X=X4_train.to_numpy(), y=y4_train.to_numpy(), \n",
        "                             scoring='accuracy', random_seed=35, shuffle=True)\n",
        "# summarize\n",
        "print('P-value: %.3f, t-Statistic: %.3f' % (p, t))\n",
        "# interpret the result\n",
        "if p <= alpha:\n",
        " print('Difference between mean performance is probably real')\n",
        "else:\n",
        " print('Algorithms probably have the same performance')"
      ],
      "metadata": {
        "colab": {
          "base_uri": "https://localhost:8080/"
        },
        "outputId": "02a660f8-87f2-46e8-ccef-d57d4ee71987",
        "id": "ycTFR3XJb7vN"
      },
      "execution_count": null,
      "outputs": [
        {
          "output_type": "stream",
          "name": "stdout",
          "text": [
            "P-value: 0.427, t-Statistic: 0.831\n",
            "Algorithms probably have the same performance\n"
          ]
        }
      ]
    },
    {
      "cell_type": "code",
      "source": [
        "t, p = paired_ttest_kfold_cv(estimator1=model42, estimator2=model43, cv=10, X=X4_train.to_numpy(), y=y4_train.to_numpy(), \n",
        "                             scoring='accuracy', random_seed=35, shuffle=True)\n",
        "# summarize\n",
        "print('P-value: %.3f, t-Statistic: %.3f' % (p, t))\n",
        "# interpret the result\n",
        "if p <= alpha:\n",
        " print('Difference between mean performance is probably real')\n",
        "else:\n",
        " print('Algorithms probably have the same performance')"
      ],
      "metadata": {
        "colab": {
          "base_uri": "https://localhost:8080/"
        },
        "outputId": "ef6de1a5-4cec-4994-a9e1-e3ebfbb2f6a7",
        "id": "lWlWxft5b7vN"
      },
      "execution_count": null,
      "outputs": [
        {
          "output_type": "stream",
          "name": "stdout",
          "text": [
            "P-value: 0.000, t-Statistic: -7.177\n",
            "Difference between mean performance is probably real\n"
          ]
        }
      ]
    },
    {
      "cell_type": "code",
      "execution_count": null,
      "metadata": {
        "colab": {
          "base_uri": "https://localhost:8080/",
          "height": 281
        },
        "outputId": "bf9ad74a-4be8-4e63-ff0a-9c2cf8366789",
        "id": "SWx6U4Ek4WWV"
      },
      "outputs": [
        {
          "output_type": "display_data",
          "data": {
            "text/plain": [
              "<Figure size 432x288 with 2 Axes>"
            ],
            "image/png": "[encoded data removed]"
          },
          "metadata": {
            "needs_background": "light"
          }
        }
      ],
      "source": [
        "model4 = AdaBoostClassifier(random_state=35)\n",
        "model4.fit(X4_train, y4_train)\n",
        "y_pred4 = model4.predict(X4_test)\n",
        "cm_display = ConfusionMatrixDisplay.from_predictions(y4_test, y_pred4, display_labels = ['Tidak Tepat Waktu', 'Tepat Waktu'], cmap='inferno')\n",
        "plt.show()"
      ]
    },
    {
      "cell_type": "code",
      "execution_count": null,
      "metadata": {
        "colab": {
          "base_uri": "https://localhost:8080/"
        },
        "outputId": "95ba4885-d9ca-4787-c3e4-b2fcbe5b06af",
        "id": "EhsT-LUf4WWW"
      },
      "outputs": [
        {
          "output_type": "stream",
          "name": "stdout",
          "text": [
            "              precision    recall  f1-score   support\n",
            "\n",
            "           0       0.60      0.58      0.59       816\n",
            "           1       0.60      0.63      0.61       843\n",
            "\n",
            "    accuracy                           0.60      1659\n",
            "   macro avg       0.60      0.60      0.60      1659\n",
            "weighted avg       0.60      0.60      0.60      1659\n",
            "\n"
          ]
        }
      ],
      "source": [
        "report4 = classification_report(y4_test, y_pred4)\n",
        "print(report4)"
      ]
    },
    {
      "cell_type": "markdown",
      "source": [
        "## Model 5 (Smt 5)"
      ],
      "metadata": {
        "id": "CEP5p2x01F44"
      }
    },
    {
      "cell_type": "code",
      "execution_count": null,
      "metadata": {
        "id": "-gg0wkQA0vJO"
      },
      "outputs": [],
      "source": [
        "feature_columns5 = ['S1','S2','S3','S4','S5','SKS_S5']\n",
        "X5 = final_df[feature_columns5]\n",
        "y5 = final_df['STATUS']\n",
        "X5_train, X5_test, y5_train, y5_test = train_test_split(X5, y5, random_state=35, test_size=0.2, shuffle=True)"
      ]
    },
    {
      "cell_type": "code",
      "execution_count": null,
      "metadata": {
        "colab": {
          "base_uri": "https://localhost:8080/"
        },
        "id": "mjnDSN_yA0fr",
        "outputId": "66bd6ad4-7183-4b34-9c0e-1918cffd80c1"
      },
      "outputs": [
        {
          "output_type": "stream",
          "name": "stdout",
          "text": [
            "Accuracy: 0.608 (0.018)\n"
          ]
        }
      ],
      "source": [
        "model51 = AdaBoostClassifier()\n",
        "scores51 = cross_val_score(model51, X5_train, y5_train, scoring='accuracy', cv=cv, n_jobs=-1)\n",
        "print('Accuracy: %.3f (%.3f)' % (mean(scores51), std(scores51)))"
      ]
    },
    {
      "cell_type": "code",
      "execution_count": null,
      "metadata": {
        "colab": {
          "base_uri": "https://localhost:8080/"
        },
        "id": "xooXV5-danzG",
        "outputId": "95dc160e-5964-4133-ea23-12e0626d3aa6"
      },
      "outputs": [
        {
          "output_type": "execute_result",
          "data": {
            "text/plain": [
              "array([0.61445783, 0.60692771, 0.61445783, 0.58584337, 0.64457831,\n",
              "       0.60240964, 0.57616893, 0.60331825, 0.61085973, 0.62292609])"
            ]
          },
          "metadata": {},
          "execution_count": 76
        }
      ],
      "source": [
        "scores51"
      ]
    },
    {
      "cell_type": "code",
      "execution_count": null,
      "metadata": {
        "colab": {
          "base_uri": "https://localhost:8080/"
        },
        "id": "lj7B-k6aA0fy",
        "outputId": "a54ed80d-a6ce-4787-8bb1-77e989a379e6"
      },
      "outputs": [
        {
          "output_type": "stream",
          "name": "stdout",
          "text": [
            "Accuracy: 0.566 (0.017)\n"
          ]
        }
      ],
      "source": [
        "model52 = DecisionTreeClassifier()\n",
        "scores52 = cross_val_score(model52, X5_train, y5_train, scoring='accuracy', cv=cv, n_jobs=-1)\n",
        "print('Accuracy: %.3f (%.3f)' % (mean(scores52), std(scores52)))"
      ]
    },
    {
      "cell_type": "code",
      "execution_count": null,
      "metadata": {
        "colab": {
          "base_uri": "https://localhost:8080/"
        },
        "id": "H8vmlnl3aopC",
        "outputId": "bcb5b979-7723-4427-f72c-b9fea7210618"
      },
      "outputs": [
        {
          "output_type": "execute_result",
          "data": {
            "text/plain": [
              "array([0.59638554, 0.55572289, 0.5813253 , 0.56777108, 0.55271084,\n",
              "       0.57078313, 0.55656109, 0.53242836, 0.57616893, 0.56711916])"
            ]
          },
          "metadata": {},
          "execution_count": 78
        }
      ],
      "source": [
        "scores52"
      ]
    },
    {
      "cell_type": "code",
      "execution_count": null,
      "metadata": {
        "colab": {
          "base_uri": "https://localhost:8080/"
        },
        "id": "BfjNNLBrA0fy",
        "outputId": "42769618-e252-4e63-bd54-0aadc459410b"
      },
      "outputs": [
        {
          "output_type": "stream",
          "name": "stdout",
          "text": [
            "Accuracy: 0.625 (0.015)\n"
          ]
        }
      ],
      "source": [
        "model53 = RandomForestClassifier()\n",
        "scores53 = cross_val_score(model53, X5_train, y5_train, scoring='accuracy', cv=cv, n_jobs=-1)\n",
        "print('Accuracy: %.3f (%.3f)' % (mean(scores53), std(scores53)))"
      ]
    },
    {
      "cell_type": "code",
      "execution_count": null,
      "metadata": {
        "colab": {
          "base_uri": "https://localhost:8080/"
        },
        "id": "kHL1QtW-apfP",
        "outputId": "e6b86a5e-0c3b-46af-f49b-0bd01d8222f6"
      },
      "outputs": [
        {
          "output_type": "execute_result",
          "data": {
            "text/plain": [
              "array([0.63554217, 0.60542169, 0.65210843, 0.62349398, 0.62349398,\n",
              "       0.62048193, 0.59879336, 0.62443439, 0.64555053, 0.6199095 ])"
            ]
          },
          "metadata": {},
          "execution_count": 80
        }
      ],
      "source": [
        "scores53"
      ]
    },
    {
      "cell_type": "code",
      "execution_count": null,
      "metadata": {
        "colab": {
          "base_uri": "https://localhost:8080/",
          "height": 334
        },
        "id": "NNal8dtZatvc",
        "outputId": "a560bc02-eea6-4526-9d45-9894368ee350"
      },
      "outputs": [
        {
          "output_type": "execute_result",
          "data": {
            "text/plain": [
              "[Text(0, 0.5, 'Skor Akurasi'),\n",
              " [Text(0, 0, 'AdaBoost'),\n",
              "  Text(0, 0, 'Decision Tree'),\n",
              "  Text(0, 0, 'Random Forest')]]"
            ]
          },
          "metadata": {},
          "execution_count": 81
        },
        {
          "output_type": "display_data",
          "data": {
            "text/plain": [
              "<Figure size 432x288 with 1 Axes>"
            ],
            "image/png": "[encoded data removed]"
          },
          "metadata": {
            "needs_background": "light"
          }
        }
      ],
      "source": [
        "scores5 = [scores51, scores52, scores53]\n",
        "sns.boxplot(data=scores5).set(xticklabels=['AdaBoost', 'Decision Tree', 'Random Forest'], ylabel='Skor Akurasi')"
      ]
    },
    {
      "cell_type": "code",
      "source": [
        "y_pred51 = cross_val_predict(model51, X5_train, y5_train, cv=cv)\n",
        "y_pred52 = cross_val_predict(model52, X5_train, y5_train, cv=cv)\n",
        "y_pred53 = cross_val_predict(model53, X5_train, y5_train, cv=cv)\n",
        "y5_val = y5_train.values"
      ],
      "metadata": {
        "id": "d-TupppidlnX"
      },
      "execution_count": null,
      "outputs": []
    },
    {
      "cell_type": "code",
      "source": [
        "f, p = ftest(y5_val, y_pred51, y_pred52, y_pred53)\n",
        "\n",
        "# summarize\n",
        "print('P-value: %.3f, F-Statistic: %.3f' % (p, f))\n",
        "# interpret the result\n",
        "if p <= 0.05:\n",
        " print('Difference between mean performance is probably real')\n",
        "else:\n",
        " print('Algorithms probably have the same performance')"
      ],
      "metadata": {
        "colab": {
          "base_uri": "https://localhost:8080/"
        },
        "outputId": "be3285a2-5ade-4f49-c725-7c0bfeecf4cb",
        "id": "9AZcH3qAdlnX"
      },
      "execution_count": null,
      "outputs": [
        {
          "output_type": "stream",
          "name": "stdout",
          "text": [
            "P-value: 0.000, F-Statistic: 32.134\n",
            "Difference between mean performance is probably real\n"
          ]
        },
        {
          "output_type": "stream",
          "name": "stderr",
          "text": [
            "/usr/local/lib/python3.8/dist-packages/mlxtend/evaluate/f_test.py:79: FutureWarning: arrays to stack must be passed as a \"sequence\" type such as list or tuple. Support for non-sequence iterables such as generators is deprecated as of NumPy 1.16 and will raise an error in the future.\n",
            "  ary = np.hstack(((y_target == mod).reshape(-1, 1) for\n"
          ]
        }
      ]
    },
    {
      "cell_type": "code",
      "source": [
        "t, p = paired_ttest_kfold_cv(estimator1=model51, estimator2=model52, cv=10, X=X5_train.to_numpy(), y=y5_train.to_numpy(), \n",
        "                             scoring='accuracy', random_seed=35, shuffle=True)\n",
        "# summarize\n",
        "print('P-value: %.3f, t-Statistic: %.3f' % (p, t))\n",
        "# interpret the result\n",
        "if p <= alpha:\n",
        " print('Difference between mean performance is probably real')\n",
        "else:\n",
        " print('Algorithms probably have the same performance')"
      ],
      "metadata": {
        "colab": {
          "base_uri": "https://localhost:8080/"
        },
        "outputId": "811c0259-c006-49b4-e0d3-915555d36493",
        "id": "51nBQC0zdlnY"
      },
      "execution_count": null,
      "outputs": [
        {
          "output_type": "stream",
          "name": "stdout",
          "text": [
            "P-value: 0.000, t-Statistic: 5.888\n",
            "Difference between mean performance is probably real\n"
          ]
        }
      ]
    },
    {
      "cell_type": "code",
      "source": [
        "t, p = paired_ttest_kfold_cv(estimator1=model51, estimator2=model53, cv=10, X=X5_train.to_numpy(), y=y5_train.to_numpy(), \n",
        "                             scoring='accuracy', random_seed=35, shuffle=True)\n",
        "# summarize\n",
        "print('P-value: %.3f, t-Statistic: %.3f' % (p, t))\n",
        "# interpret the result\n",
        "if p <= alpha:\n",
        " print('Difference between mean performance is probably real')\n",
        "else:\n",
        " print('Algorithms probably have the same performance')"
      ],
      "metadata": {
        "colab": {
          "base_uri": "https://localhost:8080/"
        },
        "outputId": "3f413e78-d752-4696-b469-02ffb3e868d9",
        "id": "mbLQ8lB_dlnY"
      },
      "execution_count": null,
      "outputs": [
        {
          "output_type": "stream",
          "name": "stdout",
          "text": [
            "P-value: 0.468, t-Statistic: -0.757\n",
            "Algorithms probably have the same performance\n"
          ]
        }
      ]
    },
    {
      "cell_type": "code",
      "source": [
        "t, p = paired_ttest_kfold_cv(estimator1=model52, estimator2=model53, cv=10, X=X5_train.to_numpy(), y=y5_train.to_numpy(), \n",
        "                             scoring='accuracy', random_seed=35, shuffle=True)\n",
        "# summarize\n",
        "print('P-value: %.3f, t-Statistic: %.3f' % (p, t))\n",
        "# interpret the result\n",
        "if p <= alpha:\n",
        " print('Difference between mean performance is probably real')\n",
        "else:\n",
        " print('Algorithms probably have the same performance')"
      ],
      "metadata": {
        "colab": {
          "base_uri": "https://localhost:8080/"
        },
        "outputId": "a745f20b-8e88-4ef3-ea89-a24ec661141b",
        "id": "GlDfL_i8dlnZ"
      },
      "execution_count": null,
      "outputs": [
        {
          "output_type": "stream",
          "name": "stdout",
          "text": [
            "P-value: 0.000, t-Statistic: -6.181\n",
            "Difference between mean performance is probably real\n"
          ]
        }
      ]
    },
    {
      "cell_type": "code",
      "execution_count": null,
      "metadata": {
        "colab": {
          "base_uri": "https://localhost:8080/",
          "height": 279
        },
        "outputId": "54a2b244-0d65-47ef-d3d3-24e705927862",
        "id": "IfpHms4b5FI_"
      },
      "outputs": [
        {
          "output_type": "display_data",
          "data": {
            "text/plain": [
              "<Figure size 432x288 with 2 Axes>"
            ],
            "image/png": "[encoded data removed]"
          },
          "metadata": {
            "needs_background": "light"
          }
        }
      ],
      "source": [
        "model5 = RandomForestClassifier(random_state=35)\n",
        "model5.fit(X5_train, y5_train)\n",
        "y_pred5 = model5.predict(X5_test)\n",
        "cm_display = ConfusionMatrixDisplay.from_predictions(y5_test, y_pred5, display_labels = ['Tidak Tepat Waktu', 'Tepat Waktu'], cmap='inferno')\n",
        "plt.show()"
      ]
    },
    {
      "cell_type": "code",
      "execution_count": null,
      "metadata": {
        "colab": {
          "base_uri": "https://localhost:8080/"
        },
        "outputId": "bae69a2c-020e-4b92-bcc0-054cf33d31ac",
        "id": "w2LMWLKr5FJO"
      },
      "outputs": [
        {
          "output_type": "stream",
          "name": "stdout",
          "text": [
            "              precision    recall  f1-score   support\n",
            "\n",
            "           0       0.60      0.62      0.61       816\n",
            "           1       0.62      0.60      0.61       843\n",
            "\n",
            "    accuracy                           0.61      1659\n",
            "   macro avg       0.61      0.61      0.61      1659\n",
            "weighted avg       0.61      0.61      0.61      1659\n",
            "\n"
          ]
        }
      ],
      "source": [
        "report5 = classification_report(y5_test, y_pred5)\n",
        "print(report5)"
      ]
    },
    {
      "cell_type": "markdown",
      "source": [
        "## Model 6 (Smt 6)"
      ],
      "metadata": {
        "id": "uKT4qexy4fh8"
      }
    },
    {
      "cell_type": "code",
      "execution_count": null,
      "metadata": {
        "id": "CN9ZAnJr4ynr"
      },
      "outputs": [],
      "source": [
        "feature_columns6 = ['S1','S2','S3','S4','S5','S6','SKS_S6']\n",
        "X6 = final_df[feature_columns6]\n",
        "y6 = final_df['STATUS']\n",
        "X6_train, X6_test, y6_train, y6_test = train_test_split(X6, y6, random_state=35, test_size=0.2, shuffle=True)"
      ]
    },
    {
      "cell_type": "code",
      "execution_count": null,
      "metadata": {
        "colab": {
          "base_uri": "https://localhost:8080/"
        },
        "id": "6E-vaOHqEg3u",
        "outputId": "12dea8ec-6f46-4be8-98cf-a638fb2aaa03"
      },
      "outputs": [
        {
          "output_type": "stream",
          "name": "stdout",
          "text": [
            "Accuracy: 0.627 (0.023)\n"
          ]
        }
      ],
      "source": [
        "model61 = AdaBoostClassifier()\n",
        "scores61 = cross_val_score(model61, X6_train, y6_train, scoring='accuracy', cv=cv, n_jobs=-1)\n",
        "print('Accuracy: %.3f (%.3f)' % (mean(scores61), std(scores61)))"
      ]
    },
    {
      "cell_type": "code",
      "execution_count": null,
      "metadata": {
        "colab": {
          "base_uri": "https://localhost:8080/"
        },
        "id": "-lNuezrFa9E7",
        "outputId": "1a0b9ab9-70aa-470d-d394-cf9a5d5a6080"
      },
      "outputs": [
        {
          "output_type": "execute_result",
          "data": {
            "text/plain": [
              "array([0.65060241, 0.60993976, 0.64909639, 0.62048193, 0.66114458,\n",
              "       0.60993976, 0.62443439, 0.57767722, 0.62895928, 0.63800905])"
            ]
          },
          "metadata": {},
          "execution_count": 91
        }
      ],
      "source": [
        "scores61"
      ]
    },
    {
      "cell_type": "code",
      "execution_count": null,
      "metadata": {
        "colab": {
          "base_uri": "https://localhost:8080/"
        },
        "id": "4igvTrseEg3v",
        "outputId": "ff191df4-75f1-4a1f-f198-f1ddc61243b2"
      },
      "outputs": [
        {
          "output_type": "stream",
          "name": "stdout",
          "text": [
            "Accuracy: 0.598 (0.022)\n"
          ]
        }
      ],
      "source": [
        "model62 = DecisionTreeClassifier(random_state=35)\n",
        "scores62 = cross_val_score(model62, X6_train, y6_train, scoring='accuracy', cv=cv, n_jobs=-1)\n",
        "print('Accuracy: %.3f (%.3f)' % (mean(scores62), std(scores62)))"
      ]
    },
    {
      "cell_type": "code",
      "execution_count": null,
      "metadata": {
        "colab": {
          "base_uri": "https://localhost:8080/"
        },
        "id": "3JU_UTkYa9uL",
        "outputId": "d8e2c625-edee-4764-e558-6c7adfa1c702"
      },
      "outputs": [
        {
          "output_type": "execute_result",
          "data": {
            "text/plain": [
              "array([0.61295181, 0.5813253 , 0.61295181, 0.57078313, 0.62951807,\n",
              "       0.59638554, 0.57164404, 0.57013575, 0.62443439, 0.61236802])"
            ]
          },
          "metadata": {},
          "execution_count": 93
        }
      ],
      "source": [
        "scores62"
      ]
    },
    {
      "cell_type": "code",
      "execution_count": null,
      "metadata": {
        "colab": {
          "base_uri": "https://localhost:8080/"
        },
        "id": "Q03mM0rYEg3v",
        "outputId": "66b9a46c-9ba8-4086-b6c6-2ae4fc971cdb"
      },
      "outputs": [
        {
          "output_type": "stream",
          "name": "stdout",
          "text": [
            "Accuracy: 0.649 (0.017)\n"
          ]
        }
      ],
      "source": [
        "model63 = RandomForestClassifier()\n",
        "scores63 = cross_val_score(model63, X6_train, y6_train, scoring='accuracy', cv=cv, n_jobs=-1)\n",
        "print('Accuracy: %.3f (%.3f)' % (mean(scores63), std(scores63)))"
      ]
    },
    {
      "cell_type": "code",
      "execution_count": null,
      "metadata": {
        "colab": {
          "base_uri": "https://localhost:8080/"
        },
        "id": "vO8BV0Dva-dg",
        "outputId": "ee230ce3-fe72-4592-9003-4eb36bee2488"
      },
      "outputs": [
        {
          "output_type": "execute_result",
          "data": {
            "text/plain": [
              "array([0.67168675, 0.6310241 , 0.64759036, 0.64909639, 0.6746988 ,\n",
              "       0.64156627, 0.64253394, 0.62895928, 0.67119155, 0.63348416])"
            ]
          },
          "metadata": {},
          "execution_count": 95
        }
      ],
      "source": [
        "scores63"
      ]
    },
    {
      "cell_type": "code",
      "execution_count": null,
      "metadata": {
        "colab": {
          "base_uri": "https://localhost:8080/",
          "height": 334
        },
        "id": "D1SNB38MbE0c",
        "outputId": "57782938-676d-417b-f259-c99d152f62b2"
      },
      "outputs": [
        {
          "output_type": "execute_result",
          "data": {
            "text/plain": [
              "[Text(0, 0.5, 'Skor Akurasi'),\n",
              " [Text(0, 0, 'AdaBoost'),\n",
              "  Text(0, 0, 'Decision Tree'),\n",
              "  Text(0, 0, 'Random Forest')]]"
            ]
          },
          "metadata": {},
          "execution_count": 96
        },
        {
          "output_type": "display_data",
          "data": {
            "text/plain": [
              "<Figure size 432x288 with 1 Axes>"
            ],
            "image/png": "[encoded data removed]"
          },
          "metadata": {
            "needs_background": "light"
          }
        }
      ],
      "source": [
        "scores6 = [scores61, scores62, scores63]\n",
        "sns.boxplot(data=scores6).set(xticklabels=['AdaBoost', 'Decision Tree', 'Random Forest'], ylabel='Skor Akurasi')"
      ]
    },
    {
      "cell_type": "code",
      "source": [
        "y_pred61 = cross_val_predict(model61, X6_train, y6_train, cv=cv)\n",
        "y_pred62 = cross_val_predict(model62, X6_train, y6_train, cv=cv)\n",
        "y_pred63 = cross_val_predict(model63, X6_train, y6_train, cv=cv)\n",
        "y6_val = y6_train.values"
      ],
      "metadata": {
        "id": "ly7KqiwZe4xi"
      },
      "execution_count": null,
      "outputs": []
    },
    {
      "cell_type": "code",
      "source": [
        "f, p = ftest(y6_val, y_pred61, y_pred62, y_pred63)\n",
        "\n",
        "# summarize\n",
        "print('P-value: %.3f, F-Statistic: %.3f' % (p, f))\n",
        "# interpret the result\n",
        "if p <= 0.05:\n",
        " print('Difference between mean performance is probably real')\n",
        "else:\n",
        " print('Algorithms probably have the same performance')"
      ],
      "metadata": {
        "colab": {
          "base_uri": "https://localhost:8080/"
        },
        "outputId": "2778938b-f81c-4170-c36d-8a846e3def0e",
        "id": "8FEHv4Cte4xp"
      },
      "execution_count": null,
      "outputs": [
        {
          "output_type": "stream",
          "name": "stdout",
          "text": [
            "P-value: 0.000, F-Statistic: 33.823\n",
            "Difference between mean performance is probably real\n"
          ]
        },
        {
          "output_type": "stream",
          "name": "stderr",
          "text": [
            "/usr/local/lib/python3.8/dist-packages/mlxtend/evaluate/f_test.py:79: FutureWarning: arrays to stack must be passed as a \"sequence\" type such as list or tuple. Support for non-sequence iterables such as generators is deprecated as of NumPy 1.16 and will raise an error in the future.\n",
            "  ary = np.hstack(((y_target == mod).reshape(-1, 1) for\n"
          ]
        }
      ]
    },
    {
      "cell_type": "code",
      "source": [
        "t, p = paired_ttest_kfold_cv(estimator1=model61, estimator2=model62, cv=10, X=X6_train.to_numpy(), y=y6_train.to_numpy(), \n",
        "                             scoring='accuracy', random_seed=35, shuffle=True)\n",
        "# summarize\n",
        "print('P-value: %.3f, t-Statistic: %.3f' % (p, t))\n",
        "# interpret the result\n",
        "if p <= alpha:\n",
        " print('Difference between mean performance is probably real')\n",
        "else:\n",
        " print('Algorithms probably have the same performance')"
      ],
      "metadata": {
        "colab": {
          "base_uri": "https://localhost:8080/"
        },
        "outputId": "3947dccd-e242-4968-cdc6-049f1f28f9e9",
        "id": "9yLZwcVfe4xq"
      },
      "execution_count": null,
      "outputs": [
        {
          "output_type": "stream",
          "name": "stdout",
          "text": [
            "P-value: 0.000, t-Statistic: 5.531\n",
            "Difference between mean performance is probably real\n"
          ]
        }
      ]
    },
    {
      "cell_type": "code",
      "source": [
        "t, p = paired_ttest_kfold_cv(estimator1=model61, estimator2=model63, cv=10, X=X6_train.to_numpy(), y=y6_train.to_numpy(), \n",
        "                             scoring='accuracy', random_seed=35, shuffle=True)\n",
        "# summarize\n",
        "print('P-value: %.3f, t-Statistic: %.3f' % (p, t))\n",
        "# interpret the result\n",
        "if p <= alpha:\n",
        " print('Difference between mean performance is probably real')\n",
        "else:\n",
        " print('Algorithms probably have the same performance')"
      ],
      "metadata": {
        "colab": {
          "base_uri": "https://localhost:8080/"
        },
        "outputId": "fb44aacc-5040-4c4c-eaff-f52de269dd69",
        "id": "YSwWOVSQe4xq"
      },
      "execution_count": null,
      "outputs": [
        {
          "output_type": "stream",
          "name": "stdout",
          "text": [
            "P-value: 0.004, t-Statistic: -3.828\n",
            "Difference between mean performance is probably real\n"
          ]
        }
      ]
    },
    {
      "cell_type": "code",
      "source": [
        "t, p = paired_ttest_kfold_cv(estimator1=model62, estimator2=model63, cv=10, X=X6_train.to_numpy(), y=y6_train.to_numpy(), \n",
        "                             scoring='accuracy', random_seed=35, shuffle=True)\n",
        "# summarize\n",
        "print('P-value: %.3f, t-Statistic: %.3f' % (p, t))\n",
        "# interpret the result\n",
        "if p <= alpha:\n",
        " print('Difference between mean performance is probably real')\n",
        "else:\n",
        " print('Algorithms probably have the same performance')"
      ],
      "metadata": {
        "colab": {
          "base_uri": "https://localhost:8080/"
        },
        "outputId": "1e839bd8-c260-47a3-f6b2-b58a2328bf84",
        "id": "AtkZ2ZIae4xq"
      },
      "execution_count": null,
      "outputs": [
        {
          "output_type": "stream",
          "name": "stdout",
          "text": [
            "P-value: 0.000, t-Statistic: -7.753\n",
            "Difference between mean performance is probably real\n"
          ]
        }
      ]
    },
    {
      "cell_type": "code",
      "execution_count": null,
      "metadata": {
        "colab": {
          "base_uri": "https://localhost:8080/",
          "height": 279
        },
        "id": "lyAI2XAwdoFr",
        "outputId": "9b77f2e9-6dff-4b85-ced1-0481b330dae9"
      },
      "outputs": [
        {
          "output_type": "display_data",
          "data": {
            "text/plain": [
              "<Figure size 432x288 with 2 Axes>"
            ],
            "image/png": "[encoded data removed]"
          },
          "metadata": {
            "needs_background": "light"
          }
        }
      ],
      "source": [
        "model63 = RandomForestClassifier(random_state=35)\n",
        "model63.fit(X6_train, y6_train)\n",
        "y_pred6 = model63.predict(X6_test)\n",
        "cm_display = ConfusionMatrixDisplay.from_predictions(y6_test, y_pred6, display_labels = ['Tidak Tepat Waktu', 'Tepat Waktu'], cmap='inferno')\n",
        "plt.show()"
      ]
    },
    {
      "cell_type": "code",
      "execution_count": null,
      "metadata": {
        "colab": {
          "base_uri": "https://localhost:8080/"
        },
        "id": "Fa31-L8TemBH",
        "outputId": "d6a75e99-b12d-4353-ae45-0d6407da02fb"
      },
      "outputs": [
        {
          "output_type": "stream",
          "name": "stdout",
          "text": [
            "              precision    recall  f1-score   support\n",
            "\n",
            "           0       0.63      0.64      0.63       816\n",
            "           1       0.64      0.63      0.64       843\n",
            "\n",
            "    accuracy                           0.64      1659\n",
            "   macro avg       0.64      0.64      0.64      1659\n",
            "weighted avg       0.64      0.64      0.64      1659\n",
            "\n"
          ]
        }
      ],
      "source": [
        "report6 = classification_report(y6_test, y_pred6)\n",
        "print(report6)"
      ]
    },
    {
      "cell_type": "markdown",
      "source": [
        "## Feature Importance"
      ],
      "metadata": {
        "id": "nwfZUokG_m8Z"
      }
    },
    {
      "cell_type": "code",
      "execution_count": null,
      "metadata": {
        "colab": {
          "base_uri": "https://localhost:8080/",
          "height": 156
        },
        "id": "gCtJTrcH5Xx9",
        "outputId": "52319395-07f3-4e5d-e7b0-9fe54cc2b5f1"
      },
      "outputs": [
        {
          "output_type": "execute_result",
          "data": {
            "text/plain": [
              "<IPython.core.display.HTML object>"
            ],
            "text/html": [
              "\n",
              "    <style>\n",
              "    table.eli5-weights tr:hover {\n",
              "        filter: brightness(85%);\n",
              "    }\n",
              "</style>\n",
              "\n",
              "\n",
              "\n",
              "    \n",
              "\n",
              "    \n",
              "\n",
              "    \n",
              "\n",
              "    \n",
              "\n",
              "    \n",
              "\n",
              "    \n",
              "\n",
              "\n",
              "    \n",
              "\n",
              "    \n",
              "\n",
              "    \n",
              "\n",
              "    \n",
              "\n",
              "    \n",
              "\n",
              "    \n",
              "\n",
              "\n",
              "    \n",
              "\n",
              "    \n",
              "\n",
              "    \n",
              "\n",
              "    \n",
              "\n",
              "    \n",
              "        <table class=\"eli5-weights eli5-feature-importances\" style=\"border-collapse: collapse; border: none; margin-top: 0em; table-layout: auto;\">\n",
              "    <thead>\n",
              "    <tr style=\"border: none;\">\n",
              "        <th style=\"padding: 0 1em 0 0.5em; text-align: right; border: none;\">Weight</th>\n",
              "        <th style=\"padding: 0 0.5em 0 0.5em; text-align: left; border: none;\">Feature</th>\n",
              "    </tr>\n",
              "    </thead>\n",
              "    <tbody>\n",
              "    \n",
              "        <tr style=\"background-color: hsl(120, 100.00%, 80.00%); border: none;\">\n",
              "            <td style=\"padding: 0 1em 0 0.5em; text-align: right; border: none;\">\n",
              "                0.0506\n",
              "                \n",
              "                    &plusmn; 0.0135\n",
              "                \n",
              "            </td>\n",
              "            <td style=\"padding: 0 0.5em 0 0.5em; text-align: left; border: none;\">\n",
              "                SKS_S6\n",
              "            </td>\n",
              "        </tr>\n",
              "    \n",
              "        <tr style=\"background-color: hsl(120, 100.00%, 85.47%); border: none;\">\n",
              "            <td style=\"padding: 0 1em 0 0.5em; text-align: right; border: none;\">\n",
              "                0.0321\n",
              "                \n",
              "                    &plusmn; 0.0196\n",
              "                \n",
              "            </td>\n",
              "            <td style=\"padding: 0 0.5em 0 0.5em; text-align: left; border: none;\">\n",
              "                S6\n",
              "            </td>\n",
              "        </tr>\n",
              "    \n",
              "        <tr style=\"background-color: hsl(120, 100.00%, 90.27%); border: none;\">\n",
              "            <td style=\"padding: 0 1em 0 0.5em; text-align: right; border: none;\">\n",
              "                0.0181\n",
              "                \n",
              "                    &plusmn; 0.0099\n",
              "                \n",
              "            </td>\n",
              "            <td style=\"padding: 0 0.5em 0 0.5em; text-align: left; border: none;\">\n",
              "                S3\n",
              "            </td>\n",
              "        </tr>\n",
              "    \n",
              "        <tr style=\"background-color: hsl(120, 100.00%, 94.88%); border: none;\">\n",
              "            <td style=\"padding: 0 1em 0 0.5em; text-align: right; border: none;\">\n",
              "                0.0072\n",
              "                \n",
              "                    &plusmn; 0.0108\n",
              "                \n",
              "            </td>\n",
              "            <td style=\"padding: 0 0.5em 0 0.5em; text-align: left; border: none;\">\n",
              "                S4\n",
              "            </td>\n",
              "        </tr>\n",
              "    \n",
              "        <tr style=\"background-color: hsl(120, 100.00%, 95.43%); border: none;\">\n",
              "            <td style=\"padding: 0 1em 0 0.5em; text-align: right; border: none;\">\n",
              "                0.0061\n",
              "                \n",
              "                    &plusmn; 0.0044\n",
              "                \n",
              "            </td>\n",
              "            <td style=\"padding: 0 0.5em 0 0.5em; text-align: left; border: none;\">\n",
              "                S1\n",
              "            </td>\n",
              "        </tr>\n",
              "    \n",
              "        <tr style=\"background-color: hsl(120, 100.00%, 96.21%); border: none;\">\n",
              "            <td style=\"padding: 0 1em 0 0.5em; text-align: right; border: none;\">\n",
              "                0.0047\n",
              "                \n",
              "                    &plusmn; 0.0103\n",
              "                \n",
              "            </td>\n",
              "            <td style=\"padding: 0 0.5em 0 0.5em; text-align: left; border: none;\">\n",
              "                S2\n",
              "            </td>\n",
              "        </tr>\n",
              "    \n",
              "        <tr style=\"background-color: hsl(120, 100.00%, 98.15%); border: none;\">\n",
              "            <td style=\"padding: 0 1em 0 0.5em; text-align: right; border: none;\">\n",
              "                0.0017\n",
              "                \n",
              "                    &plusmn; 0.0097\n",
              "                \n",
              "            </td>\n",
              "            <td style=\"padding: 0 0.5em 0 0.5em; text-align: left; border: none;\">\n",
              "                S5\n",
              "            </td>\n",
              "        </tr>\n",
              "    \n",
              "    \n",
              "    </tbody>\n",
              "</table>\n",
              "    \n",
              "\n",
              "    \n",
              "\n",
              "\n",
              "    \n",
              "\n",
              "    \n",
              "\n",
              "    \n",
              "\n",
              "    \n",
              "\n",
              "    \n",
              "\n",
              "    \n",
              "\n",
              "\n",
              "\n"
            ]
          },
          "metadata": {},
          "execution_count": 104
        }
      ],
      "source": [
        "model61.fit(X6_train, y6_train)\n",
        "perm1 = PermutationImportance(model61, random_state=35).fit(X6_test, y6_test)\n",
        "eli5.show_weights(perm1, feature_names = X6_test.columns.tolist())"
      ]
    },
    {
      "cell_type": "code",
      "execution_count": null,
      "metadata": {
        "colab": {
          "base_uri": "https://localhost:8080/",
          "height": 156
        },
        "id": "3rZiyNadglgb",
        "outputId": "0eae9395-48f0-4b25-d59c-71f69f220e09"
      },
      "outputs": [
        {
          "output_type": "execute_result",
          "data": {
            "text/plain": [
              "<IPython.core.display.HTML object>"
            ],
            "text/html": [
              "\n",
              "    <style>\n",
              "    table.eli5-weights tr:hover {\n",
              "        filter: brightness(85%);\n",
              "    }\n",
              "</style>\n",
              "\n",
              "\n",
              "\n",
              "    \n",
              "\n",
              "    \n",
              "\n",
              "    \n",
              "\n",
              "    \n",
              "\n",
              "    \n",
              "\n",
              "    \n",
              "\n",
              "\n",
              "    \n",
              "\n",
              "    \n",
              "\n",
              "    \n",
              "\n",
              "    \n",
              "\n",
              "    \n",
              "\n",
              "    \n",
              "\n",
              "\n",
              "    \n",
              "\n",
              "    \n",
              "\n",
              "    \n",
              "\n",
              "    \n",
              "\n",
              "    \n",
              "        <table class=\"eli5-weights eli5-feature-importances\" style=\"border-collapse: collapse; border: none; margin-top: 0em; table-layout: auto;\">\n",
              "    <thead>\n",
              "    <tr style=\"border: none;\">\n",
              "        <th style=\"padding: 0 1em 0 0.5em; text-align: right; border: none;\">Weight</th>\n",
              "        <th style=\"padding: 0 0.5em 0 0.5em; text-align: left; border: none;\">Feature</th>\n",
              "    </tr>\n",
              "    </thead>\n",
              "    <tbody>\n",
              "    \n",
              "        <tr style=\"background-color: hsl(120, 100.00%, 80.00%); border: none;\">\n",
              "            <td style=\"padding: 0 1em 0 0.5em; text-align: right; border: none;\">\n",
              "                0.0558\n",
              "                \n",
              "                    &plusmn; 0.0204\n",
              "                \n",
              "            </td>\n",
              "            <td style=\"padding: 0 0.5em 0 0.5em; text-align: left; border: none;\">\n",
              "                SKS_S6\n",
              "            </td>\n",
              "        </tr>\n",
              "    \n",
              "        <tr style=\"background-color: hsl(120, 100.00%, 87.60%); border: none;\">\n",
              "            <td style=\"padding: 0 1em 0 0.5em; text-align: right; border: none;\">\n",
              "                0.0282\n",
              "                \n",
              "                    &plusmn; 0.0184\n",
              "                \n",
              "            </td>\n",
              "            <td style=\"padding: 0 0.5em 0 0.5em; text-align: left; border: none;\">\n",
              "                S6\n",
              "            </td>\n",
              "        </tr>\n",
              "    \n",
              "        <tr style=\"background-color: hsl(120, 100.00%, 92.41%); border: none;\">\n",
              "            <td style=\"padding: 0 1em 0 0.5em; text-align: right; border: none;\">\n",
              "                0.0140\n",
              "                \n",
              "                    &plusmn; 0.0115\n",
              "                \n",
              "            </td>\n",
              "            <td style=\"padding: 0 0.5em 0 0.5em; text-align: left; border: none;\">\n",
              "                S2\n",
              "            </td>\n",
              "        </tr>\n",
              "    \n",
              "        <tr style=\"background-color: hsl(120, 100.00%, 95.56%); border: none;\">\n",
              "            <td style=\"padding: 0 1em 0 0.5em; text-align: right; border: none;\">\n",
              "                0.0065\n",
              "                \n",
              "                    &plusmn; 0.0169\n",
              "                \n",
              "            </td>\n",
              "            <td style=\"padding: 0 0.5em 0 0.5em; text-align: left; border: none;\">\n",
              "                S5\n",
              "            </td>\n",
              "        </tr>\n",
              "    \n",
              "        <tr style=\"background-color: hsl(120, 100.00%, 97.12%); border: none;\">\n",
              "            <td style=\"padding: 0 1em 0 0.5em; text-align: right; border: none;\">\n",
              "                0.0035\n",
              "                \n",
              "                    &plusmn; 0.0187\n",
              "                \n",
              "            </td>\n",
              "            <td style=\"padding: 0 0.5em 0 0.5em; text-align: left; border: none;\">\n",
              "                S4\n",
              "            </td>\n",
              "        </tr>\n",
              "    \n",
              "        <tr style=\"background-color: hsl(0, 100.00%, 97.26%); border: none;\">\n",
              "            <td style=\"padding: 0 1em 0 0.5em; text-align: right; border: none;\">\n",
              "                -0.0033\n",
              "                \n",
              "                    &plusmn; 0.0133\n",
              "                \n",
              "            </td>\n",
              "            <td style=\"padding: 0 0.5em 0 0.5em; text-align: left; border: none;\">\n",
              "                S3\n",
              "            </td>\n",
              "        </tr>\n",
              "    \n",
              "        <tr style=\"background-color: hsl(0, 100.00%, 95.05%); border: none;\">\n",
              "            <td style=\"padding: 0 1em 0 0.5em; text-align: right; border: none;\">\n",
              "                -0.0076\n",
              "                \n",
              "                    &plusmn; 0.0147\n",
              "                \n",
              "            </td>\n",
              "            <td style=\"padding: 0 0.5em 0 0.5em; text-align: left; border: none;\">\n",
              "                S1\n",
              "            </td>\n",
              "        </tr>\n",
              "    \n",
              "    \n",
              "    </tbody>\n",
              "</table>\n",
              "    \n",
              "\n",
              "    \n",
              "\n",
              "\n",
              "    \n",
              "\n",
              "    \n",
              "\n",
              "    \n",
              "\n",
              "    \n",
              "\n",
              "    \n",
              "\n",
              "    \n",
              "\n",
              "\n",
              "\n"
            ]
          },
          "metadata": {},
          "execution_count": 105
        }
      ],
      "source": [
        "model62.fit(X6_train, y6_train)\n",
        "perm2 = PermutationImportance(model62, random_state=35).fit(X6_test, y6_test)\n",
        "eli5.show_weights(perm2, feature_names = X6_test.columns.tolist())"
      ]
    },
    {
      "cell_type": "code",
      "execution_count": null,
      "metadata": {
        "colab": {
          "base_uri": "https://localhost:8080/",
          "height": 156
        },
        "id": "XesBE718gtR0",
        "outputId": "feafe15d-4649-4531-e414-8056ffc48c6c"
      },
      "outputs": [
        {
          "output_type": "execute_result",
          "data": {
            "text/plain": [
              "<IPython.core.display.HTML object>"
            ],
            "text/html": [
              "\n",
              "    <style>\n",
              "    table.eli5-weights tr:hover {\n",
              "        filter: brightness(85%);\n",
              "    }\n",
              "</style>\n",
              "\n",
              "\n",
              "\n",
              "    \n",
              "\n",
              "    \n",
              "\n",
              "    \n",
              "\n",
              "    \n",
              "\n",
              "    \n",
              "\n",
              "    \n",
              "\n",
              "\n",
              "    \n",
              "\n",
              "    \n",
              "\n",
              "    \n",
              "\n",
              "    \n",
              "\n",
              "    \n",
              "\n",
              "    \n",
              "\n",
              "\n",
              "    \n",
              "\n",
              "    \n",
              "\n",
              "    \n",
              "\n",
              "    \n",
              "\n",
              "    \n",
              "        <table class=\"eli5-weights eli5-feature-importances\" style=\"border-collapse: collapse; border: none; margin-top: 0em; table-layout: auto;\">\n",
              "    <thead>\n",
              "    <tr style=\"border: none;\">\n",
              "        <th style=\"padding: 0 1em 0 0.5em; text-align: right; border: none;\">Weight</th>\n",
              "        <th style=\"padding: 0 0.5em 0 0.5em; text-align: left; border: none;\">Feature</th>\n",
              "    </tr>\n",
              "    </thead>\n",
              "    <tbody>\n",
              "    \n",
              "        <tr style=\"background-color: hsl(120, 100.00%, 80.00%); border: none;\">\n",
              "            <td style=\"padding: 0 1em 0 0.5em; text-align: right; border: none;\">\n",
              "                0.0807\n",
              "                \n",
              "                    &plusmn; 0.0103\n",
              "                \n",
              "            </td>\n",
              "            <td style=\"padding: 0 0.5em 0 0.5em; text-align: left; border: none;\">\n",
              "                SKS_S6\n",
              "            </td>\n",
              "        </tr>\n",
              "    \n",
              "        <tr style=\"background-color: hsl(120, 100.00%, 87.37%); border: none;\">\n",
              "            <td style=\"padding: 0 1em 0 0.5em; text-align: right; border: none;\">\n",
              "                0.0418\n",
              "                \n",
              "                    &plusmn; 0.0217\n",
              "                \n",
              "            </td>\n",
              "            <td style=\"padding: 0 0.5em 0 0.5em; text-align: left; border: none;\">\n",
              "                S6\n",
              "            </td>\n",
              "        </tr>\n",
              "    \n",
              "        <tr style=\"background-color: hsl(120, 100.00%, 91.84%); border: none;\">\n",
              "            <td style=\"padding: 0 1em 0 0.5em; text-align: right; border: none;\">\n",
              "                0.0224\n",
              "                \n",
              "                    &plusmn; 0.0083\n",
              "                \n",
              "            </td>\n",
              "            <td style=\"padding: 0 0.5em 0 0.5em; text-align: left; border: none;\">\n",
              "                S5\n",
              "            </td>\n",
              "        </tr>\n",
              "    \n",
              "        <tr style=\"background-color: hsl(120, 100.00%, 92.40%); border: none;\">\n",
              "            <td style=\"padding: 0 1em 0 0.5em; text-align: right; border: none;\">\n",
              "                0.0203\n",
              "                \n",
              "                    &plusmn; 0.0116\n",
              "                \n",
              "            </td>\n",
              "            <td style=\"padding: 0 0.5em 0 0.5em; text-align: left; border: none;\">\n",
              "                S2\n",
              "            </td>\n",
              "        </tr>\n",
              "    \n",
              "        <tr style=\"background-color: hsl(120, 100.00%, 92.69%); border: none;\">\n",
              "            <td style=\"padding: 0 1em 0 0.5em; text-align: right; border: none;\">\n",
              "                0.0192\n",
              "                \n",
              "                    &plusmn; 0.0113\n",
              "                \n",
              "            </td>\n",
              "            <td style=\"padding: 0 0.5em 0 0.5em; text-align: left; border: none;\">\n",
              "                S3\n",
              "            </td>\n",
              "        </tr>\n",
              "    \n",
              "        <tr style=\"background-color: hsl(120, 100.00%, 92.85%); border: none;\">\n",
              "            <td style=\"padding: 0 1em 0 0.5em; text-align: right; border: none;\">\n",
              "                0.0186\n",
              "                \n",
              "                    &plusmn; 0.0100\n",
              "                \n",
              "            </td>\n",
              "            <td style=\"padding: 0 0.5em 0 0.5em; text-align: left; border: none;\">\n",
              "                S4\n",
              "            </td>\n",
              "        </tr>\n",
              "    \n",
              "        <tr style=\"background-color: hsl(120, 100.00%, 97.12%); border: none;\">\n",
              "            <td style=\"padding: 0 1em 0 0.5em; text-align: right; border: none;\">\n",
              "                0.0051\n",
              "                \n",
              "                    &plusmn; 0.0114\n",
              "                \n",
              "            </td>\n",
              "            <td style=\"padding: 0 0.5em 0 0.5em; text-align: left; border: none;\">\n",
              "                S1\n",
              "            </td>\n",
              "        </tr>\n",
              "    \n",
              "    \n",
              "    </tbody>\n",
              "</table>\n",
              "    \n",
              "\n",
              "    \n",
              "\n",
              "\n",
              "    \n",
              "\n",
              "    \n",
              "\n",
              "    \n",
              "\n",
              "    \n",
              "\n",
              "    \n",
              "\n",
              "    \n",
              "\n",
              "\n",
              "\n"
            ]
          },
          "metadata": {},
          "execution_count": 106
        }
      ],
      "source": [
        "perm3 = PermutationImportance(model63, random_state=35).fit(X6_test, y6_test)\n",
        "eli5.show_weights(perm3, feature_names = X6_test.columns.tolist())"
      ]
    }
  ],
  "metadata": {
    "colab": {
      "provenance": [],
      "toc_visible": true
    },
    "kernelspec": {
      "display_name": "Python 3",
      "language": "python",
      "name": "python3"
    },
    "language_info": {
      "codemirror_mode": {
        "name": "ipython",
        "version": 3
      },
      "file_extension": ".py",
      "mimetype": "text/x-python",
      "name": "python",
      "nbconvert_exporter": "python",
      "pygments_lexer": "ipython3",
      "version": "3.8.5"
    }
  },
  "nbformat": 4,
  "nbformat_minor": 0
}